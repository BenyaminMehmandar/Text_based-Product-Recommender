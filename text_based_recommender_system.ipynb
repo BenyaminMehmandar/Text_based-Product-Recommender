{
  "nbformat": 4,
  "nbformat_minor": 0,
  "metadata": {
    "colab": {
      "name": "YektaNet_Interview_Task_Benyamin_Mehmandar.ipynb",
      "provenance": [],
      "collapsed_sections": [
        "hcwE36Gw5Eij",
        "qGVBfwDGCwgM",
        "Lexfw-OF_WIE"
      ]
    },
    "kernelspec": {
      "display_name": "Python 3",
      "name": "python3"
    },
    "widgets": {
      "application/vnd.jupyter.widget-state+json": {
        "c44e218ce13d454bbcdfd86e7ce97458": {
          "model_module": "@jupyter-widgets/controls",
          "model_name": "HBoxModel",
          "state": {
            "_view_name": "HBoxView",
            "_dom_classes": [],
            "_model_name": "HBoxModel",
            "_view_module": "@jupyter-widgets/controls",
            "_model_module_version": "1.5.0",
            "_view_count": null,
            "_view_module_version": "1.5.0",
            "box_style": "",
            "layout": "IPY_MODEL_0239b32b228f4a1fb0d6dbc5547ce739",
            "_model_module": "@jupyter-widgets/controls",
            "children": [
              "IPY_MODEL_6cd821b567da4cefa87305096e336235",
              "IPY_MODEL_64207bbe99f149d286e7ee8a0149c1b6"
            ]
          }
        },
        "0239b32b228f4a1fb0d6dbc5547ce739": {
          "model_module": "@jupyter-widgets/base",
          "model_name": "LayoutModel",
          "state": {
            "_view_name": "LayoutView",
            "grid_template_rows": null,
            "right": null,
            "justify_content": null,
            "_view_module": "@jupyter-widgets/base",
            "overflow": null,
            "_model_module_version": "1.2.0",
            "_view_count": null,
            "flex_flow": null,
            "width": null,
            "min_width": null,
            "border": null,
            "align_items": null,
            "bottom": null,
            "_model_module": "@jupyter-widgets/base",
            "top": null,
            "grid_column": null,
            "overflow_y": null,
            "overflow_x": null,
            "grid_auto_flow": null,
            "grid_area": null,
            "grid_template_columns": null,
            "flex": null,
            "_model_name": "LayoutModel",
            "justify_items": null,
            "grid_row": null,
            "max_height": null,
            "align_content": null,
            "visibility": null,
            "align_self": null,
            "height": null,
            "min_height": null,
            "padding": null,
            "grid_auto_rows": null,
            "grid_gap": null,
            "max_width": null,
            "order": null,
            "_view_module_version": "1.2.0",
            "grid_template_areas": null,
            "object_position": null,
            "object_fit": null,
            "grid_auto_columns": null,
            "margin": null,
            "display": null,
            "left": null
          }
        },
        "6cd821b567da4cefa87305096e336235": {
          "model_module": "@jupyter-widgets/controls",
          "model_name": "FloatProgressModel",
          "state": {
            "_view_name": "ProgressView",
            "style": "IPY_MODEL_b8438387bb034b5886d5d2e0a265ce9b",
            "_dom_classes": [],
            "description": "Downloading: 100%",
            "_model_name": "FloatProgressModel",
            "bar_style": "success",
            "max": 434,
            "_view_module": "@jupyter-widgets/controls",
            "_model_module_version": "1.5.0",
            "value": 434,
            "_view_count": null,
            "_view_module_version": "1.5.0",
            "orientation": "horizontal",
            "min": 0,
            "description_tooltip": null,
            "_model_module": "@jupyter-widgets/controls",
            "layout": "IPY_MODEL_cc76bb4a6c364bb2863c7e1ef3c79167"
          }
        },
        "64207bbe99f149d286e7ee8a0149c1b6": {
          "model_module": "@jupyter-widgets/controls",
          "model_name": "HTMLModel",
          "state": {
            "_view_name": "HTMLView",
            "style": "IPY_MODEL_b5ac3ead382c46e181e476b5600c68b0",
            "_dom_classes": [],
            "description": "",
            "_model_name": "HTMLModel",
            "placeholder": "​",
            "_view_module": "@jupyter-widgets/controls",
            "_model_module_version": "1.5.0",
            "value": " 434/434 [00:00&lt;00:00, 603B/s]",
            "_view_count": null,
            "_view_module_version": "1.5.0",
            "description_tooltip": null,
            "_model_module": "@jupyter-widgets/controls",
            "layout": "IPY_MODEL_b9ab42ed45124c89ad6e5f2337424b52"
          }
        },
        "b8438387bb034b5886d5d2e0a265ce9b": {
          "model_module": "@jupyter-widgets/controls",
          "model_name": "ProgressStyleModel",
          "state": {
            "_view_name": "StyleView",
            "_model_name": "ProgressStyleModel",
            "description_width": "initial",
            "_view_module": "@jupyter-widgets/base",
            "_model_module_version": "1.5.0",
            "_view_count": null,
            "_view_module_version": "1.2.0",
            "bar_color": null,
            "_model_module": "@jupyter-widgets/controls"
          }
        },
        "cc76bb4a6c364bb2863c7e1ef3c79167": {
          "model_module": "@jupyter-widgets/base",
          "model_name": "LayoutModel",
          "state": {
            "_view_name": "LayoutView",
            "grid_template_rows": null,
            "right": null,
            "justify_content": null,
            "_view_module": "@jupyter-widgets/base",
            "overflow": null,
            "_model_module_version": "1.2.0",
            "_view_count": null,
            "flex_flow": null,
            "width": null,
            "min_width": null,
            "border": null,
            "align_items": null,
            "bottom": null,
            "_model_module": "@jupyter-widgets/base",
            "top": null,
            "grid_column": null,
            "overflow_y": null,
            "overflow_x": null,
            "grid_auto_flow": null,
            "grid_area": null,
            "grid_template_columns": null,
            "flex": null,
            "_model_name": "LayoutModel",
            "justify_items": null,
            "grid_row": null,
            "max_height": null,
            "align_content": null,
            "visibility": null,
            "align_self": null,
            "height": null,
            "min_height": null,
            "padding": null,
            "grid_auto_rows": null,
            "grid_gap": null,
            "max_width": null,
            "order": null,
            "_view_module_version": "1.2.0",
            "grid_template_areas": null,
            "object_position": null,
            "object_fit": null,
            "grid_auto_columns": null,
            "margin": null,
            "display": null,
            "left": null
          }
        },
        "b5ac3ead382c46e181e476b5600c68b0": {
          "model_module": "@jupyter-widgets/controls",
          "model_name": "DescriptionStyleModel",
          "state": {
            "_view_name": "StyleView",
            "_model_name": "DescriptionStyleModel",
            "description_width": "",
            "_view_module": "@jupyter-widgets/base",
            "_model_module_version": "1.5.0",
            "_view_count": null,
            "_view_module_version": "1.2.0",
            "_model_module": "@jupyter-widgets/controls"
          }
        },
        "b9ab42ed45124c89ad6e5f2337424b52": {
          "model_module": "@jupyter-widgets/base",
          "model_name": "LayoutModel",
          "state": {
            "_view_name": "LayoutView",
            "grid_template_rows": null,
            "right": null,
            "justify_content": null,
            "_view_module": "@jupyter-widgets/base",
            "overflow": null,
            "_model_module_version": "1.2.0",
            "_view_count": null,
            "flex_flow": null,
            "width": null,
            "min_width": null,
            "border": null,
            "align_items": null,
            "bottom": null,
            "_model_module": "@jupyter-widgets/base",
            "top": null,
            "grid_column": null,
            "overflow_y": null,
            "overflow_x": null,
            "grid_auto_flow": null,
            "grid_area": null,
            "grid_template_columns": null,
            "flex": null,
            "_model_name": "LayoutModel",
            "justify_items": null,
            "grid_row": null,
            "max_height": null,
            "align_content": null,
            "visibility": null,
            "align_self": null,
            "height": null,
            "min_height": null,
            "padding": null,
            "grid_auto_rows": null,
            "grid_gap": null,
            "max_width": null,
            "order": null,
            "_view_module_version": "1.2.0",
            "grid_template_areas": null,
            "object_position": null,
            "object_fit": null,
            "grid_auto_columns": null,
            "margin": null,
            "display": null,
            "left": null
          }
        },
        "62ceaca40313405583e70e1e57cd8dd6": {
          "model_module": "@jupyter-widgets/controls",
          "model_name": "HBoxModel",
          "state": {
            "_view_name": "HBoxView",
            "_dom_classes": [],
            "_model_name": "HBoxModel",
            "_view_module": "@jupyter-widgets/controls",
            "_model_module_version": "1.5.0",
            "_view_count": null,
            "_view_module_version": "1.5.0",
            "box_style": "",
            "layout": "IPY_MODEL_d6e2214f74e54c0599d0905681f75866",
            "_model_module": "@jupyter-widgets/controls",
            "children": [
              "IPY_MODEL_e1770214c0914443b3ef0e11cd0a29c9",
              "IPY_MODEL_77b5f1be5da245f88dd502ef74e0d47e"
            ]
          }
        },
        "d6e2214f74e54c0599d0905681f75866": {
          "model_module": "@jupyter-widgets/base",
          "model_name": "LayoutModel",
          "state": {
            "_view_name": "LayoutView",
            "grid_template_rows": null,
            "right": null,
            "justify_content": null,
            "_view_module": "@jupyter-widgets/base",
            "overflow": null,
            "_model_module_version": "1.2.0",
            "_view_count": null,
            "flex_flow": null,
            "width": null,
            "min_width": null,
            "border": null,
            "align_items": null,
            "bottom": null,
            "_model_module": "@jupyter-widgets/base",
            "top": null,
            "grid_column": null,
            "overflow_y": null,
            "overflow_x": null,
            "grid_auto_flow": null,
            "grid_area": null,
            "grid_template_columns": null,
            "flex": null,
            "_model_name": "LayoutModel",
            "justify_items": null,
            "grid_row": null,
            "max_height": null,
            "align_content": null,
            "visibility": null,
            "align_self": null,
            "height": null,
            "min_height": null,
            "padding": null,
            "grid_auto_rows": null,
            "grid_gap": null,
            "max_width": null,
            "order": null,
            "_view_module_version": "1.2.0",
            "grid_template_areas": null,
            "object_position": null,
            "object_fit": null,
            "grid_auto_columns": null,
            "margin": null,
            "display": null,
            "left": null
          }
        },
        "e1770214c0914443b3ef0e11cd0a29c9": {
          "model_module": "@jupyter-widgets/controls",
          "model_name": "FloatProgressModel",
          "state": {
            "_view_name": "ProgressView",
            "style": "IPY_MODEL_e73d5aacf5334d5c9299ee7344f2be15",
            "_dom_classes": [],
            "description": "Downloading: 100%",
            "_model_name": "FloatProgressModel",
            "bar_style": "success",
            "max": 1215509,
            "_view_module": "@jupyter-widgets/controls",
            "_model_module_version": "1.5.0",
            "value": 1215509,
            "_view_count": null,
            "_view_module_version": "1.5.0",
            "orientation": "horizontal",
            "min": 0,
            "description_tooltip": null,
            "_model_module": "@jupyter-widgets/controls",
            "layout": "IPY_MODEL_5ff4a32a21754ed3990e10923501dd28"
          }
        },
        "77b5f1be5da245f88dd502ef74e0d47e": {
          "model_module": "@jupyter-widgets/controls",
          "model_name": "HTMLModel",
          "state": {
            "_view_name": "HTMLView",
            "style": "IPY_MODEL_a3d24b9c56fa4ee1801362c74bab0f79",
            "_dom_classes": [],
            "description": "",
            "_model_name": "HTMLModel",
            "placeholder": "​",
            "_view_module": "@jupyter-widgets/controls",
            "_model_module_version": "1.5.0",
            "value": " 1.22M/1.22M [00:00&lt;00:00, 2.62MB/s]",
            "_view_count": null,
            "_view_module_version": "1.5.0",
            "description_tooltip": null,
            "_model_module": "@jupyter-widgets/controls",
            "layout": "IPY_MODEL_83269884d9424c7287aa710dd231ab87"
          }
        },
        "e73d5aacf5334d5c9299ee7344f2be15": {
          "model_module": "@jupyter-widgets/controls",
          "model_name": "ProgressStyleModel",
          "state": {
            "_view_name": "StyleView",
            "_model_name": "ProgressStyleModel",
            "description_width": "initial",
            "_view_module": "@jupyter-widgets/base",
            "_model_module_version": "1.5.0",
            "_view_count": null,
            "_view_module_version": "1.2.0",
            "bar_color": null,
            "_model_module": "@jupyter-widgets/controls"
          }
        },
        "5ff4a32a21754ed3990e10923501dd28": {
          "model_module": "@jupyter-widgets/base",
          "model_name": "LayoutModel",
          "state": {
            "_view_name": "LayoutView",
            "grid_template_rows": null,
            "right": null,
            "justify_content": null,
            "_view_module": "@jupyter-widgets/base",
            "overflow": null,
            "_model_module_version": "1.2.0",
            "_view_count": null,
            "flex_flow": null,
            "width": null,
            "min_width": null,
            "border": null,
            "align_items": null,
            "bottom": null,
            "_model_module": "@jupyter-widgets/base",
            "top": null,
            "grid_column": null,
            "overflow_y": null,
            "overflow_x": null,
            "grid_auto_flow": null,
            "grid_area": null,
            "grid_template_columns": null,
            "flex": null,
            "_model_name": "LayoutModel",
            "justify_items": null,
            "grid_row": null,
            "max_height": null,
            "align_content": null,
            "visibility": null,
            "align_self": null,
            "height": null,
            "min_height": null,
            "padding": null,
            "grid_auto_rows": null,
            "grid_gap": null,
            "max_width": null,
            "order": null,
            "_view_module_version": "1.2.0",
            "grid_template_areas": null,
            "object_position": null,
            "object_fit": null,
            "grid_auto_columns": null,
            "margin": null,
            "display": null,
            "left": null
          }
        },
        "a3d24b9c56fa4ee1801362c74bab0f79": {
          "model_module": "@jupyter-widgets/controls",
          "model_name": "DescriptionStyleModel",
          "state": {
            "_view_name": "StyleView",
            "_model_name": "DescriptionStyleModel",
            "description_width": "",
            "_view_module": "@jupyter-widgets/base",
            "_model_module_version": "1.5.0",
            "_view_count": null,
            "_view_module_version": "1.2.0",
            "_model_module": "@jupyter-widgets/controls"
          }
        },
        "83269884d9424c7287aa710dd231ab87": {
          "model_module": "@jupyter-widgets/base",
          "model_name": "LayoutModel",
          "state": {
            "_view_name": "LayoutView",
            "grid_template_rows": null,
            "right": null,
            "justify_content": null,
            "_view_module": "@jupyter-widgets/base",
            "overflow": null,
            "_model_module_version": "1.2.0",
            "_view_count": null,
            "flex_flow": null,
            "width": null,
            "min_width": null,
            "border": null,
            "align_items": null,
            "bottom": null,
            "_model_module": "@jupyter-widgets/base",
            "top": null,
            "grid_column": null,
            "overflow_y": null,
            "overflow_x": null,
            "grid_auto_flow": null,
            "grid_area": null,
            "grid_template_columns": null,
            "flex": null,
            "_model_name": "LayoutModel",
            "justify_items": null,
            "grid_row": null,
            "max_height": null,
            "align_content": null,
            "visibility": null,
            "align_self": null,
            "height": null,
            "min_height": null,
            "padding": null,
            "grid_auto_rows": null,
            "grid_gap": null,
            "max_width": null,
            "order": null,
            "_view_module_version": "1.2.0",
            "grid_template_areas": null,
            "object_position": null,
            "object_fit": null,
            "grid_auto_columns": null,
            "margin": null,
            "display": null,
            "left": null
          }
        },
        "a9c7faf8b113433e9440df763eefd4a6": {
          "model_module": "@jupyter-widgets/controls",
          "model_name": "HBoxModel",
          "state": {
            "_view_name": "HBoxView",
            "_dom_classes": [],
            "_model_name": "HBoxModel",
            "_view_module": "@jupyter-widgets/controls",
            "_model_module_version": "1.5.0",
            "_view_count": null,
            "_view_module_version": "1.5.0",
            "box_style": "",
            "layout": "IPY_MODEL_fd8829c5731d4b839354fd439b11113f",
            "_model_module": "@jupyter-widgets/controls",
            "children": [
              "IPY_MODEL_575d72572b0c4851b698bbcd715f878b",
              "IPY_MODEL_7670a254c1294acfa9b7ce4fa7ad0aab"
            ]
          }
        },
        "fd8829c5731d4b839354fd439b11113f": {
          "model_module": "@jupyter-widgets/base",
          "model_name": "LayoutModel",
          "state": {
            "_view_name": "LayoutView",
            "grid_template_rows": null,
            "right": null,
            "justify_content": null,
            "_view_module": "@jupyter-widgets/base",
            "overflow": null,
            "_model_module_version": "1.2.0",
            "_view_count": null,
            "flex_flow": null,
            "width": null,
            "min_width": null,
            "border": null,
            "align_items": null,
            "bottom": null,
            "_model_module": "@jupyter-widgets/base",
            "top": null,
            "grid_column": null,
            "overflow_y": null,
            "overflow_x": null,
            "grid_auto_flow": null,
            "grid_area": null,
            "grid_template_columns": null,
            "flex": null,
            "_model_name": "LayoutModel",
            "justify_items": null,
            "grid_row": null,
            "max_height": null,
            "align_content": null,
            "visibility": null,
            "align_self": null,
            "height": null,
            "min_height": null,
            "padding": null,
            "grid_auto_rows": null,
            "grid_gap": null,
            "max_width": null,
            "order": null,
            "_view_module_version": "1.2.0",
            "grid_template_areas": null,
            "object_position": null,
            "object_fit": null,
            "grid_auto_columns": null,
            "margin": null,
            "display": null,
            "left": null
          }
        },
        "575d72572b0c4851b698bbcd715f878b": {
          "model_module": "@jupyter-widgets/controls",
          "model_name": "FloatProgressModel",
          "state": {
            "_view_name": "ProgressView",
            "style": "IPY_MODEL_5b0f95bd636d48049b5835432ac685f3",
            "_dom_classes": [],
            "description": "Downloading: 100%",
            "_model_name": "FloatProgressModel",
            "bar_style": "success",
            "max": 963211760,
            "_view_module": "@jupyter-widgets/controls",
            "_model_module_version": "1.5.0",
            "value": 963211760,
            "_view_count": null,
            "_view_module_version": "1.5.0",
            "orientation": "horizontal",
            "min": 0,
            "description_tooltip": null,
            "_model_module": "@jupyter-widgets/controls",
            "layout": "IPY_MODEL_4fd2a8ad8eb04481a8f85c70b3f0489f"
          }
        },
        "7670a254c1294acfa9b7ce4fa7ad0aab": {
          "model_module": "@jupyter-widgets/controls",
          "model_name": "HTMLModel",
          "state": {
            "_view_name": "HTMLView",
            "style": "IPY_MODEL_f558aeb1b5bb48f494f7603c18a7302d",
            "_dom_classes": [],
            "description": "",
            "_model_name": "HTMLModel",
            "placeholder": "​",
            "_view_module": "@jupyter-widgets/controls",
            "_model_module_version": "1.5.0",
            "value": " 963M/963M [00:23&lt;00:00, 41.8MB/s]",
            "_view_count": null,
            "_view_module_version": "1.5.0",
            "description_tooltip": null,
            "_model_module": "@jupyter-widgets/controls",
            "layout": "IPY_MODEL_e640ba27338e4ddaa49ea3c49f430a14"
          }
        },
        "5b0f95bd636d48049b5835432ac685f3": {
          "model_module": "@jupyter-widgets/controls",
          "model_name": "ProgressStyleModel",
          "state": {
            "_view_name": "StyleView",
            "_model_name": "ProgressStyleModel",
            "description_width": "initial",
            "_view_module": "@jupyter-widgets/base",
            "_model_module_version": "1.5.0",
            "_view_count": null,
            "_view_module_version": "1.2.0",
            "bar_color": null,
            "_model_module": "@jupyter-widgets/controls"
          }
        },
        "4fd2a8ad8eb04481a8f85c70b3f0489f": {
          "model_module": "@jupyter-widgets/base",
          "model_name": "LayoutModel",
          "state": {
            "_view_name": "LayoutView",
            "grid_template_rows": null,
            "right": null,
            "justify_content": null,
            "_view_module": "@jupyter-widgets/base",
            "overflow": null,
            "_model_module_version": "1.2.0",
            "_view_count": null,
            "flex_flow": null,
            "width": null,
            "min_width": null,
            "border": null,
            "align_items": null,
            "bottom": null,
            "_model_module": "@jupyter-widgets/base",
            "top": null,
            "grid_column": null,
            "overflow_y": null,
            "overflow_x": null,
            "grid_auto_flow": null,
            "grid_area": null,
            "grid_template_columns": null,
            "flex": null,
            "_model_name": "LayoutModel",
            "justify_items": null,
            "grid_row": null,
            "max_height": null,
            "align_content": null,
            "visibility": null,
            "align_self": null,
            "height": null,
            "min_height": null,
            "padding": null,
            "grid_auto_rows": null,
            "grid_gap": null,
            "max_width": null,
            "order": null,
            "_view_module_version": "1.2.0",
            "grid_template_areas": null,
            "object_position": null,
            "object_fit": null,
            "grid_auto_columns": null,
            "margin": null,
            "display": null,
            "left": null
          }
        },
        "f558aeb1b5bb48f494f7603c18a7302d": {
          "model_module": "@jupyter-widgets/controls",
          "model_name": "DescriptionStyleModel",
          "state": {
            "_view_name": "StyleView",
            "_model_name": "DescriptionStyleModel",
            "description_width": "",
            "_view_module": "@jupyter-widgets/base",
            "_model_module_version": "1.5.0",
            "_view_count": null,
            "_view_module_version": "1.2.0",
            "_model_module": "@jupyter-widgets/controls"
          }
        },
        "e640ba27338e4ddaa49ea3c49f430a14": {
          "model_module": "@jupyter-widgets/base",
          "model_name": "LayoutModel",
          "state": {
            "_view_name": "LayoutView",
            "grid_template_rows": null,
            "right": null,
            "justify_content": null,
            "_view_module": "@jupyter-widgets/base",
            "overflow": null,
            "_model_module_version": "1.2.0",
            "_view_count": null,
            "flex_flow": null,
            "width": null,
            "min_width": null,
            "border": null,
            "align_items": null,
            "bottom": null,
            "_model_module": "@jupyter-widgets/base",
            "top": null,
            "grid_column": null,
            "overflow_y": null,
            "overflow_x": null,
            "grid_auto_flow": null,
            "grid_area": null,
            "grid_template_columns": null,
            "flex": null,
            "_model_name": "LayoutModel",
            "justify_items": null,
            "grid_row": null,
            "max_height": null,
            "align_content": null,
            "visibility": null,
            "align_self": null,
            "height": null,
            "min_height": null,
            "padding": null,
            "grid_auto_rows": null,
            "grid_gap": null,
            "max_width": null,
            "order": null,
            "_view_module_version": "1.2.0",
            "grid_template_areas": null,
            "object_position": null,
            "object_fit": null,
            "grid_auto_columns": null,
            "margin": null,
            "display": null,
            "left": null
          }
        }
      }
    }
  },
  "cells": [
    {
      "cell_type": "code",
      "metadata": {
        "id": "zqTvDsxZva_T"
      },
      "source": [
        "import pandas as pd\n",
        "import numpy as np\n",
        "import re\n",
        "import string"
      ],
      "execution_count": 2,
      "outputs": []
    },
    {
      "cell_type": "markdown",
      "metadata": {
        "id": "-RZsK-wO6tzG"
      },
      "source": [
        "# A function for cleaning texts"
      ]
    },
    {
      "cell_type": "markdown",
      "metadata": {
        "id": "1l2tozoL693P"
      },
      "source": [
        " Persian stop words and a list of all English chars"
      ]
    },
    {
      "cell_type": "code",
      "metadata": {
        "id": "Z2NAIzGj61fs"
      },
      "source": [
        "# list of persian stop words\n",
        "persian_stop_words = pd.read_csv(\"/content/drive/MyDrive/YektaNet_Interview/persian_stop_words.txt\")\n",
        "persian_stop_words_list = persian_stop_words[\"کلمات ایستای فارسی\"].tolist()\n",
        "# lsit of all English letters\n",
        "english_letters_list = list(string.ascii_letters)"
      ],
      "execution_count": 3,
      "outputs": []
    },
    {
      "cell_type": "markdown",
      "metadata": {
        "id": "wUQiydzjHDJl"
      },
      "source": [
        "This function removes all emogies from input text"
      ]
    },
    {
      "cell_type": "code",
      "metadata": {
        "id": "besu49WZHLoD"
      },
      "source": [
        "def deEmojify(text):\n",
        "  regrex_pattern = re.compile(pattern = \"[\"\n",
        "      u\"\\U0001F600-\\U0001F64F\"  # emoticons\n",
        "      u\"\\U0001F300-\\U0001F5FF\"  # symbols & pictographs\n",
        "      u\"\\U0001F680-\\U0001F6FF\"  # transport & map symbols\n",
        "      u\"\\U0001F1E0-\\U0001F1FF\"  # flags (iOS)\n",
        "                          \"]+\", flags = re.UNICODE)\n",
        "  return regrex_pattern.sub(r'',text)"
      ],
      "execution_count": 4,
      "outputs": []
    },
    {
      "cell_type": "markdown",
      "metadata": {
        "id": "HR1Bn6cD7jKe"
      },
      "source": [
        "This function removes all punctuations, English letters, persian stop words, and digits from an input text and returns a clean text"
      ]
    },
    {
      "cell_type": "code",
      "metadata": {
        "id": "Xu1NrT3E7Mf4"
      },
      "source": [
        "def preprocess_text(text, english_letters_list, persian_stop_words_list):\n",
        "  \n",
        "  # remove punctuations from string(!\"#$%&\\'()*+,-./:;<=>?@[\\\\]^_`{|}~)\n",
        "  text = text.translate(str.maketrans('', '', string.punctuation))\n",
        "\n",
        "  # remove all English letters and all digits from string\n",
        "  text = ''.join(char for char in text if (char not in english_letters_list and not char.isdigit()))\n",
        "\n",
        "  # removing all emogies from string\n",
        "  text = deEmojify(text)\n",
        "  \n",
        "  # convert from string to list\n",
        "  lst_text = text.split()\n",
        "\n",
        "  # remove Persian stopwords\n",
        "  if persian_stop_words_list is not None:\n",
        "    lst_text = [word for word in lst_text if word not in persian_stop_words_list]\n",
        "  text = \" \".join(lst_text)\n",
        "\n",
        "  return text"
      ],
      "execution_count": 5,
      "outputs": []
    },
    {
      "cell_type": "markdown",
      "metadata": {
        "id": "caUXcEivvrTV"
      },
      "source": [
        "## Reading Data and cleaning it"
      ]
    },
    {
      "cell_type": "markdown",
      "metadata": {
        "id": "Z-BHSXkW8U3h"
      },
      "source": [
        "Reading the crawled json file of digikala products info and turning it into a cleaned numpy array of unique product names containing 2527 products"
      ]
    },
    {
      "cell_type": "code",
      "metadata": {
        "colab": {
          "base_uri": "https://localhost:8080/"
        },
        "id": "GyOLYJKA8pxN",
        "outputId": "8fd642ca-b6c8-4fce-935f-c3e8ba8914d4"
      },
      "source": [
        "products_info = pd.read_json(\"/content/drive/MyDrive/YektaNet_Interview/crawled_digikala_products_info.jl\", lines=True)\n",
        "products = products_info.drop(columns=[\"id\", \"c\", \"r\", \"adjs\", \"cmts\"])\n",
        "products.rename(columns={\"t\": \"product_name\"}, inplace=True)\n",
        "products.dropna(inplace=True)\n",
        "\n",
        "# Cleaning all data from redundant letters\n",
        "products[\"product_name_clean\"] = products[\"product_name\"].apply(lambda x: \n",
        "  preprocess_text(x, english_letters_list, persian_stop_words_list))\n",
        "\n",
        "unique_products = products[\"product_name_clean\"].unique()\n",
        "unique_products.shape"
      ],
      "execution_count": 6,
      "outputs": [
        {
          "output_type": "execute_result",
          "data": {
            "text/plain": [
              "(2527,)"
            ]
          },
          "metadata": {
            "tags": []
          },
          "execution_count": 6
        }
      ]
    },
    {
      "cell_type": "code",
      "metadata": {
        "colab": {
          "base_uri": "https://localhost:8080/",
          "height": 418
        },
        "id": "LVTZBGRd_MVk",
        "outputId": "bbbb558b-9e33-44f0-c154-1d13b0215e32"
      },
      "source": [
        "all_unique_products = products.drop_duplicates(subset=['product_name_clean']).reset_index().drop(columns=[\"index\"])\n",
        "all_unique_products.to_csv('/content/drive/MyDrive/YektaNet_Interview/all_unique_products.csv', index=False) \n",
        "all_unique_products"
      ],
      "execution_count": null,
      "outputs": [
        {
          "output_type": "execute_result",
          "data": {
            "text/html": [
              "<div>\n",
              "<style scoped>\n",
              "    .dataframe tbody tr th:only-of-type {\n",
              "        vertical-align: middle;\n",
              "    }\n",
              "\n",
              "    .dataframe tbody tr th {\n",
              "        vertical-align: top;\n",
              "    }\n",
              "\n",
              "    .dataframe thead th {\n",
              "        text-align: right;\n",
              "    }\n",
              "</style>\n",
              "<table border=\"1\" class=\"dataframe\">\n",
              "  <thead>\n",
              "    <tr style=\"text-align: right;\">\n",
              "      <th></th>\n",
              "      <th>product_name</th>\n",
              "      <th>product_name_clean</th>\n",
              "    </tr>\n",
              "  </thead>\n",
              "  <tbody>\n",
              "    <tr>\n",
              "      <th>0</th>\n",
              "      <td>دوربین دیجیتال کانن مدل EOS 850D به همراه لنز ...</td>\n",
              "      <td>دوربین دیجیتال کانن مدل همراه لنز میلی متر</td>\n",
              "    </tr>\n",
              "    <tr>\n",
              "      <th>1</th>\n",
              "      <td>مینی فرز ادون مدل AG115-1002T</td>\n",
              "      <td>مینی فرز ادون مدل</td>\n",
              "    </tr>\n",
              "    <tr>\n",
              "      <th>2</th>\n",
              "      <td>دوربین فیلم برداری ورزشی گوپرو مدل HERO 9 Blac...</td>\n",
              "      <td>دوربین فیلم ورزشی گوپرو مدل همراه لوازم جانبی</td>\n",
              "    </tr>\n",
              "    <tr>\n",
              "      <th>3</th>\n",
              "      <td>دوربین فیلم برداری خودرو کراس تور مدل CR300</td>\n",
              "      <td>دوربین فیلم خودرو کراس تور مدل</td>\n",
              "    </tr>\n",
              "    <tr>\n",
              "      <th>4</th>\n",
              "      <td>کمپرسور  هوا مدل M2020</td>\n",
              "      <td>کمپرسور هوا مدل</td>\n",
              "    </tr>\n",
              "    <tr>\n",
              "      <th>...</th>\n",
              "      <td>...</td>\n",
              "      <td>...</td>\n",
              "    </tr>\n",
              "    <tr>\n",
              "      <th>2522</th>\n",
              "      <td>سرویس خواب 3 تکه نوزادی ببتو مدل Pat22Rabbit</td>\n",
              "      <td>سرویس خواب تکه نوزادی ببتو مدل</td>\n",
              "    </tr>\n",
              "    <tr>\n",
              "      <th>2523</th>\n",
              "      <td>سرویس خواب 5 تکه کودک مدل خرس های مهربون</td>\n",
              "      <td>سرویس خواب تکه کودک مدل خرس مهربون</td>\n",
              "    </tr>\n",
              "    <tr>\n",
              "      <th>2524</th>\n",
              "      <td>سرویس خواب چهار تکه کودک طرح جزیره</td>\n",
              "      <td>سرویس خواب تکه کودک طرح جزیره</td>\n",
              "    </tr>\n",
              "    <tr>\n",
              "      <th>2525</th>\n",
              "      <td>سرویس خواب 9 تکه کودک کیدبو مدل Twinkle-star</td>\n",
              "      <td>سرویس خواب تکه کودک کیدبو مدل</td>\n",
              "    </tr>\n",
              "    <tr>\n",
              "      <th>2526</th>\n",
              "      <td>حوله پالتویی کودک ماکسی مدل خرگوشی سایز 90</td>\n",
              "      <td>حوله پالتویی کودک ماکسی مدل خرگوشی سایز</td>\n",
              "    </tr>\n",
              "  </tbody>\n",
              "</table>\n",
              "<p>2527 rows × 2 columns</p>\n",
              "</div>"
            ],
            "text/plain": [
              "                                           product_name                             product_name_clean\n",
              "0     دوربین دیجیتال کانن مدل EOS 850D به همراه لنز ...     دوربین دیجیتال کانن مدل همراه لنز میلی متر\n",
              "1                         مینی فرز ادون مدل AG115-1002T                              مینی فرز ادون مدل\n",
              "2     دوربین فیلم برداری ورزشی گوپرو مدل HERO 9 Blac...  دوربین فیلم ورزشی گوپرو مدل همراه لوازم جانبی\n",
              "3           دوربین فیلم برداری خودرو کراس تور مدل CR300                 دوربین فیلم خودرو کراس تور مدل\n",
              "4                                کمپرسور  هوا مدل M2020                                کمپرسور هوا مدل\n",
              "...                                                 ...                                            ...\n",
              "2522       سرویس خواب 3 تکه نوزادی ببتو مدل Pat22Rabbit                 سرویس خواب تکه نوزادی ببتو مدل\n",
              "2523           سرویس خواب 5 تکه کودک مدل خرس های مهربون             سرویس خواب تکه کودک مدل خرس مهربون\n",
              "2524                 سرویس خواب چهار تکه کودک طرح جزیره                  سرویس خواب تکه کودک طرح جزیره\n",
              "2525       سرویس خواب 9 تکه کودک کیدبو مدل Twinkle-star                  سرویس خواب تکه کودک کیدبو مدل\n",
              "2526         حوله پالتویی کودک ماکسی مدل خرگوشی سایز 90        حوله پالتویی کودک ماکسی مدل خرگوشی سایز\n",
              "\n",
              "[2527 rows x 2 columns]"
            ]
          },
          "metadata": {
            "tags": []
          },
          "execution_count": 14
        }
      ]
    },
    {
      "cell_type": "markdown",
      "metadata": {
        "id": "IUFpCaPj9WXt"
      },
      "source": [
        "Reading the web.csv data and droping all columns but the fulltext. We also keep the categories columns to check the precision of our predictions. Then we apply the preprocess_text function to clean all the fulltext column"
      ]
    },
    {
      "cell_type": "code",
      "metadata": {
        "id": "jFZwoqry_-4w"
      },
      "source": [
        "web_data = pd.read_csv(\"/content/drive/MyDrive/YektaNet_Interview/web.csv\", encoding='utf-8')\n",
        "# define proper columns for the dataset to make it more understandable\n",
        "web_data.columns = ['id', 'website', 'fulltext', 'txt1', 'txt2', 'txt3', 'txt4', 'keywords', 'un1', 'un2', 'un3', 'un4', 'un5', 'un6', 'categories'] \n",
        "# droping all columns except for fulltext and categories\n",
        "web_data = web_data.drop(columns=['id', 'website', 'txt1', 'txt2', 'txt3', 'txt4', 'keywords', 'un1', 'un2', 'un3', 'un4', 'un5', 'un6'])\n",
        "# removing rows containing error\n",
        "web_data = web_data[~web_data.fulltext.str.contains(\"Error\")]\n",
        "web_data = web_data.reset_index().drop(columns=[\"index\"])\n",
        "# Cleaning all fulltext columns from redundant letters\n",
        "web_data[\"fulltext_clean\"] = web_data[\"fulltext\"].apply(lambda x: \n",
        "  preprocess_text(x, english_letters_list, persian_stop_words_list))"
      ],
      "execution_count": null,
      "outputs": []
    },
    {
      "cell_type": "markdown",
      "metadata": {
        "id": "EtQMRmZlLTox"
      },
      "source": [
        "dropping duplicate rows in fulltext_clean column and reseting indexes"
      ]
    },
    {
      "cell_type": "code",
      "metadata": {
        "colab": {
          "base_uri": "https://localhost:8080/",
          "height": 418
        },
        "id": "UZTXq8eoKda8",
        "outputId": "897e6577-8f51-4aaf-e450-7834d97332b5"
      },
      "source": [
        "web_data = web_data.drop_duplicates(subset=['fulltext_clean']).reset_index().drop(columns=[\"index\"])\n",
        "web_data"
      ],
      "execution_count": null,
      "outputs": [
        {
          "output_type": "execute_result",
          "data": {
            "text/html": [
              "<div>\n",
              "<style scoped>\n",
              "    .dataframe tbody tr th:only-of-type {\n",
              "        vertical-align: middle;\n",
              "    }\n",
              "\n",
              "    .dataframe tbody tr th {\n",
              "        vertical-align: top;\n",
              "    }\n",
              "\n",
              "    .dataframe thead th {\n",
              "        text-align: right;\n",
              "    }\n",
              "</style>\n",
              "<table border=\"1\" class=\"dataframe\">\n",
              "  <thead>\n",
              "    <tr style=\"text-align: right;\">\n",
              "      <th></th>\n",
              "      <th>fulltext</th>\n",
              "      <th>categories</th>\n",
              "      <th>fulltext_clean</th>\n",
              "    </tr>\n",
              "  </thead>\n",
              "  <tbody>\n",
              "    <tr>\n",
              "      <th>0</th>\n",
              "      <td>اميرحسین جون و امیرمحمد جون و امیرعلی جونم | ت...</td>\n",
              "      <td>{\"20\": {\"probability\": \"0.2120969927416129\", \"...</td>\n",
              "      <td>اميرحسین جون امیرمحمد جون امیرعلی جونم تولدت م...</td>\n",
              "    </tr>\n",
              "    <tr>\n",
              "      <th>1</th>\n",
              "      <td>اميرحسین جون و امیرمحمد جون و امیرعلی جونم | چ...</td>\n",
              "      <td>{\"9\": {\"probability\": \"0.15588014951828624\", \"...</td>\n",
              "      <td>اميرحسین جون امیرمحمد جون امیرعلی جونم شیر شیر...</td>\n",
              "    </tr>\n",
              "    <tr>\n",
              "      <th>2</th>\n",
              "      <td>اميرحسین جون و امیرمحمد جون و امیرعلی جونم | ن...</td>\n",
              "      <td>{\"30\": {\"probability\": \"0.5822832917369573\", \"...</td>\n",
              "      <td>اميرحسین جون امیرمحمد جون امیرعلی جونم نتیجه آ...</td>\n",
              "    </tr>\n",
              "    <tr>\n",
              "      <th>3</th>\n",
              "      <td>اميرحسین جون و امیرمحمد جون و امیرعلی جونم | پ...</td>\n",
              "      <td>{\"20\": {\"probability\": \"0.3405926198476455\", \"...</td>\n",
              "      <td>اميرحسین جون امیرمحمد جون امیرعلی جونم پای امی...</td>\n",
              "    </tr>\n",
              "    <tr>\n",
              "      <th>4</th>\n",
              "      <td>من تنها کفشدوزکی هستم که خدارا دید | خرنوب عسل...</td>\n",
              "      <td>{\"22\": {\"probability\": \"0.26305950139135476\", ...</td>\n",
              "      <td>کفشدوزکی خدارا دید خرنوب عسل ودارچین تحرکی اسپ...</td>\n",
              "    </tr>\n",
              "    <tr>\n",
              "      <th>...</th>\n",
              "      <td>...</td>\n",
              "      <td>...</td>\n",
              "      <td>...</td>\n",
              "    </tr>\n",
              "    <tr>\n",
              "      <th>11181</th>\n",
              "      <td>روزهای بد امیری در سوپرلیگ ترکیه - یک ورزش به ...</td>\n",
              "      <td>{\"13\": {\"probability\": \"0.517595361945674\", \"s...</td>\n",
              "      <td>امیری سوپرلیگ ترکیه ورزش نقل ، هفته رقابت‌های ...</td>\n",
              "    </tr>\n",
              "    <tr>\n",
              "      <th>11182</th>\n",
              "      <td>تساوی ترابزون اسپور با امیری و حسینی - یک ورزش...</td>\n",
              "      <td>{\"13\": {\"probability\": \"0.7573625064373598\", \"...</td>\n",
              "      <td>تساوی ترابزون اسپور امیری حسینی ورزش ترابزون ا...</td>\n",
              "    </tr>\n",
              "    <tr>\n",
              "      <th>11183</th>\n",
              "      <td>شکست سنگین ترابزون با حسینی - یک ورزش ترابزون ...</td>\n",
              "      <td>{\"13\": {\"probability\": \"0.6072557407472986\", \"...</td>\n",
              "      <td>شکست سنگین ترابزون حسینی ورزش ترابزون اسپور جم...</td>\n",
              "    </tr>\n",
              "    <tr>\n",
              "      <th>11184</th>\n",
              "      <td>یک تیم لالیگایی به دنبال حسینی - یک ورزش به نق...</td>\n",
              "      <td>{\"13\": {\"probability\": \"0.4466869902891258\", \"...</td>\n",
              "      <td>تیم لالیگایی دنبال حسینی ورزش نقل روزنامه گازت...</td>\n",
              "    </tr>\n",
              "    <tr>\n",
              "      <th>11185</th>\n",
              "      <td>پیروزی ترابزون در شب گلزنی امیری - یک ورزش ترا...</td>\n",
              "      <td>{\"13\": {\"probability\": \"0.7323029334228653\", \"...</td>\n",
              "      <td>پیروزی ترابزون شب گلزنی امیری ورزش ترابزون اسپ...</td>\n",
              "    </tr>\n",
              "  </tbody>\n",
              "</table>\n",
              "<p>11186 rows × 3 columns</p>\n",
              "</div>"
            ],
            "text/plain": [
              "                                                fulltext  ...                                     fulltext_clean\n",
              "0      اميرحسین جون و امیرمحمد جون و امیرعلی جونم | ت...  ...  اميرحسین جون امیرمحمد جون امیرعلی جونم تولدت م...\n",
              "1      اميرحسین جون و امیرمحمد جون و امیرعلی جونم | چ...  ...  اميرحسین جون امیرمحمد جون امیرعلی جونم شیر شیر...\n",
              "2      اميرحسین جون و امیرمحمد جون و امیرعلی جونم | ن...  ...  اميرحسین جون امیرمحمد جون امیرعلی جونم نتیجه آ...\n",
              "3      اميرحسین جون و امیرمحمد جون و امیرعلی جونم | پ...  ...  اميرحسین جون امیرمحمد جون امیرعلی جونم پای امی...\n",
              "4      من تنها کفشدوزکی هستم که خدارا دید | خرنوب عسل...  ...  کفشدوزکی خدارا دید خرنوب عسل ودارچین تحرکی اسپ...\n",
              "...                                                  ...  ...                                                ...\n",
              "11181  روزهای بد امیری در سوپرلیگ ترکیه - یک ورزش به ...  ...  امیری سوپرلیگ ترکیه ورزش نقل ، هفته رقابت‌های ...\n",
              "11182  تساوی ترابزون اسپور با امیری و حسینی - یک ورزش...  ...  تساوی ترابزون اسپور امیری حسینی ورزش ترابزون ا...\n",
              "11183  شکست سنگین ترابزون با حسینی - یک ورزش ترابزون ...  ...  شکست سنگین ترابزون حسینی ورزش ترابزون اسپور جم...\n",
              "11184  یک تیم لالیگایی به دنبال حسینی - یک ورزش به نق...  ...  تیم لالیگایی دنبال حسینی ورزش نقل روزنامه گازت...\n",
              "11185  پیروزی ترابزون در شب گلزنی امیری - یک ورزش ترا...  ...  پیروزی ترابزون شب گلزنی امیری ورزش ترابزون اسپ...\n",
              "\n",
              "[11186 rows x 3 columns]"
            ]
          },
          "metadata": {
            "tags": []
          },
          "execution_count": 196
        }
      ]
    },
    {
      "cell_type": "code",
      "metadata": {
        "id": "fcMUVAxxQ5ye"
      },
      "source": [
        "# compression_opts = dict(method='zip', archive_name='web_data_clean.csv')  \n",
        "# web_data.to_csv('/content/drive/MyDrive/YektaNet_Interview/web_clean.zip', index=False, compression=compression_opts) "
      ],
      "execution_count": null,
      "outputs": []
    },
    {
      "cell_type": "code",
      "metadata": {
        "id": "Pp4PA-SQROcS"
      },
      "source": [
        "# import zipfile\n",
        "# with zipfile.ZipFile(\"/content/drive/MyDrive/YektaNet_Interview/web_clean.zip\", 'r') as zip_ref:\n",
        "#   zip_ref.extractall(\"/content/drive/MyDrive/YektaNet_Interview/\")"
      ],
      "execution_count": null,
      "outputs": []
    },
    {
      "cell_type": "markdown",
      "metadata": {
        "id": "O5aTRhPoLd64"
      },
      "source": [
        "loading wiki.txt dataset and applying all the mentioned things on it to make it clean "
      ]
    },
    {
      "cell_type": "code",
      "metadata": {
        "id": "5bpqeGsWvp5m"
      },
      "source": [
        "wiki_data = pd.read_csv(\"/content/drive/MyDrive/YektaNet_Interview/wiki.txt\", encoding='utf-8')\n",
        "wiki_data.columns = ['fulltext'] \n",
        "# removing rows containing error\n",
        "wiki_data = wiki_data[~wiki_data.fulltext.str.contains(\"Error\")]\n",
        "wiki_data = wiki_data.reset_index().drop(columns=[\"index\"])\n",
        "# Cleaning all fulltext columns from redundant letters\n",
        "wiki_data[\"fulltext_clean\"] = wiki_data[\"fulltext\"].apply(lambda x: \n",
        "  preprocess_text(x, english_letters_list, persian_stop_words_list))\n",
        "# droping duplicate rows and reseting indexes\n",
        "wiki_data = wiki_data.drop_duplicates(subset=['fulltext_clean']).reset_index().drop(columns=[\"index\"])"
      ],
      "execution_count": null,
      "outputs": []
    },
    {
      "cell_type": "code",
      "metadata": {
        "colab": {
          "base_uri": "https://localhost:8080/",
          "height": 418
        },
        "id": "2T2a4bzNMH9b",
        "outputId": "57e6707a-da1a-426d-8f86-e19cab48a280"
      },
      "source": [
        "# compression_opts = dict(method='zip', archive_name='wiki_data_clean.csv')  \n",
        "# wiki_data.to_csv('/content/drive/MyDrive/YektaNet_Interview/wiki_clean.zip', index=False, compression=compression_opts) \n",
        "wiki_data"
      ],
      "execution_count": null,
      "outputs": [
        {
          "output_type": "execute_result",
          "data": {
            "text/html": [
              "<div>\n",
              "<style scoped>\n",
              "    .dataframe tbody tr th:only-of-type {\n",
              "        vertical-align: middle;\n",
              "    }\n",
              "\n",
              "    .dataframe tbody tr th {\n",
              "        vertical-align: top;\n",
              "    }\n",
              "\n",
              "    .dataframe thead th {\n",
              "        text-align: right;\n",
              "    }\n",
              "</style>\n",
              "<table border=\"1\" class=\"dataframe\">\n",
              "  <thead>\n",
              "    <tr style=\"text-align: right;\">\n",
              "      <th></th>\n",
              "      <th>fulltext</th>\n",
              "      <th>fulltext_clean</th>\n",
              "    </tr>\n",
              "  </thead>\n",
              "  <tbody>\n",
              "    <tr>\n",
              "      <th>0</th>\n",
              "      <td>سالنامه دفتر یا کتابی است دست نویس یا چاپ شده ...</td>\n",
              "      <td>سالنامه دفتر کتابی دست نویس چاپ درمورد رویداده...</td>\n",
              "    </tr>\n",
              "    <tr>\n",
              "      <th>1</th>\n",
              "      <td>اط لاع یا آگاهش در کوتاه ترین تعریف داده های پ...</td>\n",
              "      <td>اط لاع آگاهش کوتاه تعریف پردازش مواد خام بالقو...</td>\n",
              "    </tr>\n",
              "    <tr>\n",
              "      <th>2</th>\n",
              "      <td>این نگاره نمونه ای از یک اثر ویرایش شده است که...</td>\n",
              "      <td>نگاره نمونه اثر ویرایش تصویرهای گوناگونی اجازه...</td>\n",
              "    </tr>\n",
              "    <tr>\n",
              "      <th>3</th>\n",
              "      <td>ویکی معمولا به انواعی از وب گاه ها گفته می شود...</td>\n",
              "      <td>ویکی انواعی وب بازدیدکنندگانش اوقات نیاز ثبت و...</td>\n",
              "    </tr>\n",
              "    <tr>\n",
              "      <th>4</th>\n",
              "      <td>نرم افزارهای مشارکت گرا گروه افزار یا ابزار گر...</td>\n",
              "      <td>نرم افزارهای مشارکت گرا گروه افزار ابزار نرم ا...</td>\n",
              "    </tr>\n",
              "    <tr>\n",
              "      <th>...</th>\n",
              "      <td>...</td>\n",
              "      <td>...</td>\n",
              "    </tr>\n",
              "    <tr>\n",
              "      <th>19994</th>\n",
              "      <td>پرچم آمریکا در جزایر کوچک حاشیه ای ایالات متحد...</td>\n",
              "      <td>پرچم آمریکا جزایر کوچک حاشیه ایالات متحده رسمی...</td>\n",
              "    </tr>\n",
              "    <tr>\n",
              "      <th>19995</th>\n",
              "      <td>پرونده بندانگشتی نقشه بالا طرح نهایی جزایر شیخ...</td>\n",
              "      <td>پرونده بندانگشتی نقشه طرح نهایی جزایر شیخ نشین...</td>\n",
              "    </tr>\n",
              "    <tr>\n",
              "      <th>19996</th>\n",
              "      <td>شهر هارتفورد پایتخت ایالتی کنتیکت در کشور آمری...</td>\n",
              "      <td>شهر هارتفورد پایتخت ایالتی کنتیکت کشور آمریکا ...</td>\n",
              "    </tr>\n",
              "    <tr>\n",
              "      <th>19997</th>\n",
              "      <td>دامنه اختصاص داده شده به شوروی سابق است امکان...</td>\n",
              "      <td>دامنه اختصاص شوروی امکان ثبت دامنه منابع پیوند...</td>\n",
              "    </tr>\n",
              "    <tr>\n",
              "      <th>19998</th>\n",
              "      <td>بریجپورت بزرگ ترین شهر ایالت کنتیکت در کشور آم...</td>\n",
              "      <td>بریجپورت شهر ایالت کنتیکت کشور آمریکا منابع رد...</td>\n",
              "    </tr>\n",
              "  </tbody>\n",
              "</table>\n",
              "<p>19999 rows × 2 columns</p>\n",
              "</div>"
            ],
            "text/plain": [
              "                                                fulltext                                     fulltext_clean\n",
              "0      سالنامه دفتر یا کتابی است دست نویس یا چاپ شده ...  سالنامه دفتر کتابی دست نویس چاپ درمورد رویداده...\n",
              "1      اط لاع یا آگاهش در کوتاه ترین تعریف داده های پ...  اط لاع آگاهش کوتاه تعریف پردازش مواد خام بالقو...\n",
              "2      این نگاره نمونه ای از یک اثر ویرایش شده است که...  نگاره نمونه اثر ویرایش تصویرهای گوناگونی اجازه...\n",
              "3      ویکی معمولا به انواعی از وب گاه ها گفته می شود...  ویکی انواعی وب بازدیدکنندگانش اوقات نیاز ثبت و...\n",
              "4      نرم افزارهای مشارکت گرا گروه افزار یا ابزار گر...  نرم افزارهای مشارکت گرا گروه افزار ابزار نرم ا...\n",
              "...                                                  ...                                                ...\n",
              "19994  پرچم آمریکا در جزایر کوچک حاشیه ای ایالات متحد...  پرچم آمریکا جزایر کوچک حاشیه ایالات متحده رسمی...\n",
              "19995  پرونده بندانگشتی نقشه بالا طرح نهایی جزایر شیخ...  پرونده بندانگشتی نقشه طرح نهایی جزایر شیخ نشین...\n",
              "19996  شهر هارتفورد پایتخت ایالتی کنتیکت در کشور آمری...  شهر هارتفورد پایتخت ایالتی کنتیکت کشور آمریکا ...\n",
              "19997   دامنه اختصاص داده شده به شوروی سابق است امکان...  دامنه اختصاص شوروی امکان ثبت دامنه منابع پیوند...\n",
              "19998  بریجپورت بزرگ ترین شهر ایالت کنتیکت در کشور آم...  بریجپورت شهر ایالت کنتیکت کشور آمریکا منابع رد...\n",
              "\n",
              "[19999 rows x 2 columns]"
            ]
          },
          "metadata": {
            "tags": []
          },
          "execution_count": 203
        }
      ]
    },
    {
      "cell_type": "markdown",
      "metadata": {
        "id": "4vLT2Da3Sr7Z"
      },
      "source": [
        "# Loading all cleaned datasets"
      ]
    },
    {
      "cell_type": "code",
      "metadata": {
        "id": "j722cSfDQMm1"
      },
      "source": [
        "all_unique_products = pd.read_csv('/content/drive/MyDrive/YektaNet_Interview/all_unique_products.csv') \n",
        "web_data = pd.read_csv(\"/content/drive/MyDrive/YektaNet_Interview/web_data_clean.csv\")\n",
        "wiki_data = pd.read_csv(\"/content/drive/MyDrive/YektaNet_Interview/wiki_data_clean.csv\")"
      ],
      "execution_count": 8,
      "outputs": []
    },
    {
      "cell_type": "markdown",
      "metadata": {
        "id": "hcwE36Gw5Eij"
      },
      "source": [
        "## Let's make a Recommender system!"
      ]
    },
    {
      "cell_type": "code",
      "metadata": {
        "id": "6Q3faZf4XQF_"
      },
      "source": [
        "!pip install transformers"
      ],
      "execution_count": null,
      "outputs": []
    },
    {
      "cell_type": "code",
      "metadata": {
        "id": "XcCbVcJOxsG8"
      },
      "source": [
        "import transformers"
      ],
      "execution_count": 10,
      "outputs": []
    },
    {
      "cell_type": "markdown",
      "metadata": {
        "id": "lq3NUqwvSReC"
      },
      "source": [
        "Importing the pretrained bert network which is fine tuned by persian datasets by HooshvareLab called ParsBERT"
      ]
    },
    {
      "cell_type": "code",
      "metadata": {
        "id": "BLWE_UKg5kUo",
        "colab": {
          "base_uri": "https://localhost:8080/",
          "height": 269,
          "referenced_widgets": [
            "c44e218ce13d454bbcdfd86e7ce97458",
            "0239b32b228f4a1fb0d6dbc5547ce739",
            "6cd821b567da4cefa87305096e336235",
            "64207bbe99f149d286e7ee8a0149c1b6",
            "b8438387bb034b5886d5d2e0a265ce9b",
            "cc76bb4a6c364bb2863c7e1ef3c79167",
            "b5ac3ead382c46e181e476b5600c68b0",
            "b9ab42ed45124c89ad6e5f2337424b52",
            "62ceaca40313405583e70e1e57cd8dd6",
            "d6e2214f74e54c0599d0905681f75866",
            "e1770214c0914443b3ef0e11cd0a29c9",
            "77b5f1be5da245f88dd502ef74e0d47e",
            "e73d5aacf5334d5c9299ee7344f2be15",
            "5ff4a32a21754ed3990e10923501dd28",
            "a3d24b9c56fa4ee1801362c74bab0f79",
            "83269884d9424c7287aa710dd231ab87",
            "a9c7faf8b113433e9440df763eefd4a6",
            "fd8829c5731d4b839354fd439b11113f",
            "575d72572b0c4851b698bbcd715f878b",
            "7670a254c1294acfa9b7ce4fa7ad0aab",
            "5b0f95bd636d48049b5835432ac685f3",
            "4fd2a8ad8eb04481a8f85c70b3f0489f",
            "f558aeb1b5bb48f494f7603c18a7302d",
            "e640ba27338e4ddaa49ea3c49f430a14"
          ]
        },
        "outputId": "e0cf5139-4b49-49d9-b746-baaf7c634af8"
      },
      "source": [
        "from transformers import AutoConfig, AutoTokenizer, TFAutoModel, AutoModel\n",
        "\n",
        "config = AutoConfig.from_pretrained(\"HooshvareLab/bert-base-parsbert-uncased\")\n",
        "tokenizer = AutoTokenizer.from_pretrained(\"HooshvareLab/bert-base-parsbert-uncased\")\n",
        "model = TFAutoModel.from_pretrained(\"HooshvareLab/bert-base-parsbert-uncased\")"
      ],
      "execution_count": 11,
      "outputs": [
        {
          "output_type": "display_data",
          "data": {
            "application/vnd.jupyter.widget-view+json": {
              "model_id": "c44e218ce13d454bbcdfd86e7ce97458",
              "version_minor": 0,
              "version_major": 2
            },
            "text/plain": [
              "HBox(children=(FloatProgress(value=0.0, description='Downloading', max=434.0, style=ProgressStyle(description_…"
            ]
          },
          "metadata": {
            "tags": []
          }
        },
        {
          "output_type": "stream",
          "text": [
            "\n"
          ],
          "name": "stdout"
        },
        {
          "output_type": "display_data",
          "data": {
            "application/vnd.jupyter.widget-view+json": {
              "model_id": "62ceaca40313405583e70e1e57cd8dd6",
              "version_minor": 0,
              "version_major": 2
            },
            "text/plain": [
              "HBox(children=(FloatProgress(value=0.0, description='Downloading', max=1215509.0, style=ProgressStyle(descript…"
            ]
          },
          "metadata": {
            "tags": []
          }
        },
        {
          "output_type": "stream",
          "text": [
            "\n"
          ],
          "name": "stdout"
        },
        {
          "output_type": "display_data",
          "data": {
            "application/vnd.jupyter.widget-view+json": {
              "model_id": "a9c7faf8b113433e9440df763eefd4a6",
              "version_minor": 0,
              "version_major": 2
            },
            "text/plain": [
              "HBox(children=(FloatProgress(value=0.0, description='Downloading', max=963211760.0, style=ProgressStyle(descri…"
            ]
          },
          "metadata": {
            "tags": []
          }
        },
        {
          "output_type": "stream",
          "text": [
            "\n"
          ],
          "name": "stdout"
        },
        {
          "output_type": "stream",
          "text": [
            "Some layers from the model checkpoint at HooshvareLab/bert-base-parsbert-uncased were not used when initializing TFBertModel: ['nsp___cls', 'mlm___cls']\n",
            "- This IS expected if you are initializing TFBertModel from the checkpoint of a model trained on another task or with another architecture (e.g. initializing a BertForSequenceClassification model from a BertForPreTraining model).\n",
            "- This IS NOT expected if you are initializing TFBertModel from the checkpoint of a model that you expect to be exactly identical (initializing a BertForSequenceClassification model from a BertForSequenceClassification model).\n",
            "All the layers of TFBertModel were initialized from the model checkpoint at HooshvareLab/bert-base-parsbert-uncased.\n",
            "If your task is similar to the task the model of the checkpoint was trained on, you can already use TFBertModel for predictions without further training.\n"
          ],
          "name": "stderr"
        }
      ]
    },
    {
      "cell_type": "markdown",
      "metadata": {
        "id": "KrzbXrxmsLIX"
      },
      "source": [
        "This function breaks a large string input into several small strings to make it possible for the bert model to vectorize it"
      ]
    },
    {
      "cell_type": "code",
      "metadata": {
        "id": "YQqmxD5Bl1q9"
      },
      "source": [
        "def splitter(long_string, window_length):\n",
        "\n",
        "  all_subs = []\n",
        "  splitted_string = long_string.split()\n",
        "  i = 0\n",
        "  while i + window_length < len(splitted_string):\n",
        "    substring = splitted_string[i: i + window_length]\n",
        "    i = i + window_length\n",
        "    all_subs.append(' '.join(substring))\n",
        "    if i + window_length > len(splitted_string):\n",
        "      substring = splitted_string[i: ]\n",
        "      all_subs.append(' '.join(substring))\n",
        "  return all_subs"
      ],
      "execution_count": 12,
      "outputs": []
    },
    {
      "cell_type": "markdown",
      "metadata": {
        "id": "GErpEiI4sder"
      },
      "source": [
        "This function tokenizes each input string and then embeds it using bert model. if bert model is unable to handle the whole string in the first place, we break it using splitter and embed each part of string using bert"
      ]
    },
    {
      "cell_type": "code",
      "metadata": {
        "id": "pI7SzsJr8H2i"
      },
      "source": [
        "def utils_bert_embedding(txt, tokenizer, model, window_length):\n",
        "\n",
        "  all_embeds_string = []\n",
        "  try:\n",
        "    idx = tokenizer.encode(txt)\n",
        "    idx = np.array(idx)[None,:]  \n",
        "    embedding = model(idx)\n",
        "    X = np.array(embedding[0][0][1:-1])\n",
        "    all_embeds_string.append(X.mean(0))\n",
        "  except:\n",
        "    sub_strings = splitter(txt, window_length)\n",
        "    for i in range(len(sub_strings)):\n",
        "      idx = tokenizer.encode(sub_strings[i])\n",
        "      idx = np.array(idx)[None,:]  \n",
        "      embedding = model(idx)\n",
        "      X = np.array(embedding[0][0][1:-1])\n",
        "      all_embeds_string.append(X.mean(0))\n",
        "\n",
        "  return all_embeds_string"
      ],
      "execution_count": 13,
      "outputs": []
    },
    {
      "cell_type": "markdown",
      "metadata": {
        "id": "5MX3ejtIth57"
      },
      "source": [
        "Now we use the utils_bert_embedding to vectorize the first 2000 rows of cleaned web_data dataset. Each row will have at least one vector with size of 768, and if it is too big, it will have 2 or more vectors with size of 768, for each part of it"
      ]
    },
    {
      "cell_type": "code",
      "metadata": {
        "id": "WdcZZAdpmrDF"
      },
      "source": [
        "## create list of web_data vector\n",
        "all_embeds_web_data = []\n",
        "window_length = 100\n",
        "cnt = 0\n",
        "for index, row in web_data.loc[0:2000].iterrows():\n",
        "  all_embeds_web_data.append(utils_bert_embedding(row[\"fulltext_clean\"], tokenizer, model, window_length))\n",
        "  cnt += 1\n",
        "  if cnt % 100 == 0:\n",
        "    print(cnt)"
      ],
      "execution_count": null,
      "outputs": []
    },
    {
      "cell_type": "code",
      "metadata": {
        "id": "hkRhepF08y6u"
      },
      "source": [
        "first_2000_embeds_web_data = np.asanyarray(all_embeds_web_data)\n",
        "np.save(\"/content/drive/MyDrive/YektaNet_Interview/first_2000_embeds_web_data.npy\", first_2000_embeds_web_data)"
      ],
      "execution_count": null,
      "outputs": []
    },
    {
      "cell_type": "markdown",
      "metadata": {
        "id": "wEI8eTbRZZqv"
      },
      "source": [
        "Now we use the utils_bert_embedding to vectorize the first 1000 rows of cleaned wiki_data dataset. Each row will have at least one vector with size of 768, and if it is too big, it will have 2 or more vectors with size of 768, for each part of it"
      ]
    },
    {
      "cell_type": "code",
      "metadata": {
        "id": "1GB1pqOLZgm4"
      },
      "source": [
        "## create list of wiki_data vector\n",
        "all_embeds_wiki_data = []\n",
        "window_length = 100\n",
        "cnt = 0\n",
        "for index, row in wiki_data.loc[0:1000].iterrows():\n",
        "  all_embeds_wiki_data.append(utils_bert_embedding(row[\"fulltext_clean\"], tokenizer, model, window_length))\n",
        "  cnt += 1\n",
        "  if cnt % 100 == 0:\n",
        "    print(cnt)"
      ],
      "execution_count": null,
      "outputs": []
    },
    {
      "cell_type": "code",
      "metadata": {
        "id": "ACi00KJQKBO5"
      },
      "source": [
        "first_1000_embeds_wiki_data = np.asanyarray(all_embeds_wiki_data)\n",
        "np.save(\"/content/drive/MyDrive/YektaNet_Interview/first_1000_embeds_wiki_data.npy\", first_1000_embeds_wiki_data)"
      ],
      "execution_count": null,
      "outputs": []
    },
    {
      "cell_type": "markdown",
      "metadata": {
        "id": "Aqddeo8Q-cZt"
      },
      "source": [
        "Now we use the utils_bert_embedding to vectorize all 2527 cleaned product names:"
      ]
    },
    {
      "cell_type": "code",
      "metadata": {
        "id": "6AZ9OTQU-rqL"
      },
      "source": [
        "## create list of unique product names vector\n",
        "all_products_embeds = []\n",
        "window_length = 100\n",
        "cnt = 0\n",
        "for product in unique_products:\n",
        "  all_products_embeds.append(utils_bert_embedding(product, tokenizer, model, window_length))\n",
        "  cnt += 1\n",
        "  if cnt % 500 == 0:\n",
        "    print(cnt)"
      ],
      "execution_count": null,
      "outputs": []
    },
    {
      "cell_type": "code",
      "metadata": {
        "id": "fZMAJZJODARJ"
      },
      "source": [
        "all_unique_products_embeds = np.asanyarray(all_products_embeds)\n",
        "np.save(\"/content/drive/MyDrive/YektaNet_Interview/all_unique_products_embeds.npy\", all_unique_products_embeds)"
      ],
      "execution_count": null,
      "outputs": []
    },
    {
      "cell_type": "markdown",
      "metadata": {
        "id": "qGVBfwDGCwgM"
      },
      "source": [
        "## Now we load the vectorized arrays of web_data, wiki_data, and products names which we made and saved as numpy arrays"
      ]
    },
    {
      "cell_type": "code",
      "metadata": {
        "id": "u5FtMMNHDju5"
      },
      "source": [
        "from numpy import load\n",
        "np_load_old = np.load\n",
        "np.load = lambda *a,**k: np_load_old(*a, allow_pickle=True, **k)"
      ],
      "execution_count": 14,
      "outputs": []
    },
    {
      "cell_type": "code",
      "metadata": {
        "id": "s4ygNDmNDpKo"
      },
      "source": [
        "first_2000_web_data_vectors = np.load(\"/content/drive/MyDrive/YektaNet_Interview/first_2000_embeds_web_data.npy\")\n",
        "first_1000_wiki_data_vectors_ = np.load(\"/content/drive/MyDrive/YektaNet_Interview/first_1000_embeds_wiki_data.npy\")\n",
        "all_unique_products_vectors = np.load(\"/content/drive/MyDrive/YektaNet_Interview/all_unique_products_embeds.npy\")"
      ],
      "execution_count": 15,
      "outputs": []
    },
    {
      "cell_type": "markdown",
      "metadata": {
        "id": "ODr_DNhEE8d1"
      },
      "source": [
        "# Let's predict best products for each data"
      ]
    },
    {
      "cell_type": "markdown",
      "metadata": {
        "id": "HVf6u83kIrof"
      },
      "source": [
        "The metric we use to find out the similarity between each data vector and each product is cosine similarity which could be calculated as below"
      ]
    },
    {
      "cell_type": "code",
      "metadata": {
        "colab": {
          "base_uri": "https://localhost:8080/"
        },
        "id": "5x4STZzwIqU8",
        "outputId": "30ff4f1f-78e2-45dd-bd5f-e0bc920a3793"
      },
      "source": [
        "import scipy\n",
        "from scipy import spatial\n",
        "cosine_similarity = 1 - spatial.distance.cosine(first_2000_web_data_vectors[3][0], all_unique_products_vectors[3][0])\n",
        "cosine_similarity"
      ],
      "execution_count": 16,
      "outputs": [
        {
          "output_type": "execute_result",
          "data": {
            "text/plain": [
              "0.45193254947662354"
            ]
          },
          "metadata": {
            "tags": []
          },
          "execution_count": 16
        }
      ]
    },
    {
      "cell_type": "markdown",
      "metadata": {
        "id": "lFVbElsfJWEk"
      },
      "source": [
        "Now we write functions to calculate the cosine similarity between each vectorized data in a dataset and products. Then we choose k products with most cosine similarity with the input data vector and recommend them"
      ]
    },
    {
      "cell_type": "code",
      "metadata": {
        "id": "sT9oXfpRFJa8"
      },
      "source": [
        "from collections import OrderedDict\n",
        "\n",
        "def find_k_largest_indices(a, k):\n",
        "  idx = np.argpartition(a.ravel(),a.size-k)[-k:]\n",
        "  return np.column_stack(np.unravel_index(idx, a.shape))\n",
        "\n",
        "def find_k_most_similar_products_from_indices(index_list):\n",
        "  k_most_similar_products = []\n",
        "  for i in range(len(index_list)):\n",
        "    index = index_list[i][0]\n",
        "    k_most_similar_products.append(unique_products[index])\n",
        "  return k_most_similar_products\n",
        "\n",
        "def find_k_products_with_most_cos_similarity_with_data(vec, products_vecs, k):\n",
        "  all_cos_sims = []\n",
        "  for label_vec in products_vecs:\n",
        "    cosine_similarity = 1 - spatial.distance.cosine(vec[0], label_vec)\n",
        "    all_cos_sims.append(cosine_similarity)\n",
        "  k_largest_indices = find_k_largest_indices(np.asanyarray(all_cos_sims), k)\n",
        "  return find_k_most_similar_products_from_indices(k_largest_indices)\n",
        "\n",
        "def recommender(data_vecs, products_vecs, k):\n",
        "  all_predicted_labels = []\n",
        "  for vec in data_vecs:\n",
        "    if len(vec) == 1:\n",
        "      k_most_similar_products = find_k_products_with_most_cos_similarity_with_data(vec, products_vecs, k)\n",
        "    else:\n",
        "      most_similars_lists = []\n",
        "      for vector in vec:\n",
        "        k_most_similar_products = find_k_products_with_most_cos_similarity_with_data(vector, products_vecs, k)\n",
        "        most_similars_lists.append(k_most_similar_products)\n",
        "      \n",
        "      k_most_similar_products = list(OrderedDict.fromkeys(sum(most_similars_lists, [])))\n",
        "    \n",
        "    all_predicted_labels.append(k_most_similar_products)\n",
        "  return all_predicted_labels"
      ],
      "execution_count": 17,
      "outputs": []
    },
    {
      "cell_type": "markdown",
      "metadata": {
        "id": "zFElAk-XUeUQ"
      },
      "source": [
        "# Let's Test"
      ]
    },
    {
      "cell_type": "markdown",
      "metadata": {
        "id": "1Rvj8PgnUvmm"
      },
      "source": [
        "Predicting related products for the first 2000 web_data rows with k = 5"
      ]
    },
    {
      "cell_type": "code",
      "metadata": {
        "id": "8gqi7OB5LaS8"
      },
      "source": [
        "recommended_products_for_web_data = recommender(first_2000_web_data_vectors, all_unique_products_vectors, 5)"
      ],
      "execution_count": null,
      "outputs": []
    },
    {
      "cell_type": "code",
      "metadata": {
        "id": "PQKI51nYT0Hh"
      },
      "source": [
        "first_2000_web_data = web_data[0:2001]\n",
        "first_2000_web_data[\"recommended_products\"] = recommended_products_for_web_data"
      ],
      "execution_count": null,
      "outputs": []
    },
    {
      "cell_type": "code",
      "metadata": {
        "id": "G5mwLgy3b2GG"
      },
      "source": [
        "compression_opts = dict(method='zip', archive_name='first_2000_web_data_clean_with_recommends.csv')  \n",
        "first_2000_web_data.to_csv('/content/drive/MyDrive/YektaNet_Interview/first_2000_web_data_clean_with_recommends.zip', index=False, compression=compression_opts) "
      ],
      "execution_count": null,
      "outputs": []
    },
    {
      "cell_type": "code",
      "metadata": {
        "id": "VsQrqSNaOtGv"
      },
      "source": [
        "# import zipfile\n",
        "# with zipfile.ZipFile(\"/content/drive/MyDrive/YektaNet_Interview/first_2000_web_data_clean_with_recommends.zip\", 'r') as zip_ref:\n",
        "#     zip_ref.extractall(\"/content/drive/MyDrive/YektaNet_Interview/\")"
      ],
      "execution_count": null,
      "outputs": []
    },
    {
      "cell_type": "markdown",
      "metadata": {
        "id": "JgjlZ9ACVS5j"
      },
      "source": [
        "loading output data for first 2000 web data"
      ]
    },
    {
      "cell_type": "code",
      "metadata": {
        "id": "jdjjomR_eBJw"
      },
      "source": [
        "first_2000_web_data_with_recommends = pd.read_csv(\"/content/drive/MyDrive/YektaNet_Interview/first_2000_web_data_clean_with_recommends.csv\")"
      ],
      "execution_count": 18,
      "outputs": []
    },
    {
      "cell_type": "code",
      "metadata": {
        "colab": {
          "base_uri": "https://localhost:8080/",
          "height": 591
        },
        "id": "hZkNIjPmcU39",
        "outputId": "2ee52ada-7f46-471e-c4dc-ebfb38d869fb"
      },
      "source": [
        "first_2000_web_data_with_recommends"
      ],
      "execution_count": null,
      "outputs": [
        {
          "output_type": "execute_result",
          "data": {
            "text/html": [
              "<div>\n",
              "<style scoped>\n",
              "    .dataframe tbody tr th:only-of-type {\n",
              "        vertical-align: middle;\n",
              "    }\n",
              "\n",
              "    .dataframe tbody tr th {\n",
              "        vertical-align: top;\n",
              "    }\n",
              "\n",
              "    .dataframe thead th {\n",
              "        text-align: right;\n",
              "    }\n",
              "</style>\n",
              "<table border=\"1\" class=\"dataframe\">\n",
              "  <thead>\n",
              "    <tr style=\"text-align: right;\">\n",
              "      <th></th>\n",
              "      <th>fulltext</th>\n",
              "      <th>categories</th>\n",
              "      <th>fulltext_clean</th>\n",
              "      <th>recommended_products</th>\n",
              "    </tr>\n",
              "  </thead>\n",
              "  <tbody>\n",
              "    <tr>\n",
              "      <th>0</th>\n",
              "      <td>اميرحسین جون و امیرمحمد جون و امیرعلی جونم | ت...</td>\n",
              "      <td>{\"20\": {\"probability\": \"0.2120969927416129\", \"...</td>\n",
              "      <td>اميرحسین جون امیرمحمد جون امیرعلی جونم تولدت م...</td>\n",
              "      <td>['سشوارحرفه پرنسلی مدل', 'ماشین اصلاح بدن رمین...</td>\n",
              "    </tr>\n",
              "    <tr>\n",
              "      <th>1</th>\n",
              "      <td>اميرحسین جون و امیرمحمد جون و امیرعلی جونم | چ...</td>\n",
              "      <td>{\"9\": {\"probability\": \"0.15588014951828624\", \"...</td>\n",
              "      <td>اميرحسین جون امیرمحمد جون امیرعلی جونم شیر شیر...</td>\n",
              "      <td>['ست ماشین اصلاح موی بدن رمینگتون مدل', 'ماشین...</td>\n",
              "    </tr>\n",
              "    <tr>\n",
              "      <th>2</th>\n",
              "      <td>اميرحسین جون و امیرمحمد جون و امیرعلی جونم | ن...</td>\n",
              "      <td>{\"30\": {\"probability\": \"0.5822832917369573\", \"...</td>\n",
              "      <td>اميرحسین جون امیرمحمد جون امیرعلی جونم نتیجه آ...</td>\n",
              "      <td>['ماشین اصلاح رمینگتون', 'ماشین اصلاح بدن رمین...</td>\n",
              "    </tr>\n",
              "    <tr>\n",
              "      <th>3</th>\n",
              "      <td>اميرحسین جون و امیرمحمد جون و امیرعلی جونم | پ...</td>\n",
              "      <td>{\"20\": {\"probability\": \"0.3405926198476455\", \"...</td>\n",
              "      <td>اميرحسین جون امیرمحمد جون امیرعلی جونم پای امی...</td>\n",
              "      <td>['ماشین اصلاح بدن رمینگتون مدل', 'ست ماشین اصل...</td>\n",
              "    </tr>\n",
              "    <tr>\n",
              "      <th>4</th>\n",
              "      <td>من تنها کفشدوزکی هستم که خدارا دید | خرنوب عسل...</td>\n",
              "      <td>{\"22\": {\"probability\": \"0.26305950139135476\", ...</td>\n",
              "      <td>کفشدوزکی خدارا دید خرنوب عسل ودارچین تحرکی اسپ...</td>\n",
              "      <td>['شامپو طراوت شون حجم میلی لیتر', 'نرم موی کود...</td>\n",
              "    </tr>\n",
              "    <tr>\n",
              "      <th>...</th>\n",
              "      <td>...</td>\n",
              "      <td>...</td>\n",
              "      <td>...</td>\n",
              "      <td>...</td>\n",
              "    </tr>\n",
              "    <tr>\n",
              "      <th>1996</th>\n",
              "      <td>خبرگزاری فارس - مصدومیت پدر و پسر 15ساله و خود...</td>\n",
              "      <td>{\"15\": {\"probability\": \"0.22950841099597985\", ...</td>\n",
              "      <td>خبرگزاری فارس مصدومیت پدر پسر ساله خودزنی اسید...</td>\n",
              "      <td>['سرویس خواب تکه نوزاد صبااو مدل', 'سرویس خواب...</td>\n",
              "    </tr>\n",
              "    <tr>\n",
              "      <th>1997</th>\n",
              "      <td>خبرگزاری فارس - می‌خواهند لایحه الحاق به کنوان...</td>\n",
              "      <td>{\"15\": {\"probability\": \"0.5902321100889905\", \"...</td>\n",
              "      <td>خبرگزاری فارس می‌خواهند لایحه الحاق کنوانسیون ...</td>\n",
              "      <td>['روغن گیربکس خودرو پروفی کار مدل حجم لیتر', '...</td>\n",
              "    </tr>\n",
              "    <tr>\n",
              "      <th>1998</th>\n",
              "      <td>خبرگزاری فارس - سیاست های آمریکا در منطقه شکست...</td>\n",
              "      <td>{\"15\": {\"probability\": \"0.5858267245574352\", \"...</td>\n",
              "      <td>خبرگزاری فارس سیاست آمریکا منطقه شکست خورده وج...</td>\n",
              "      <td>['وبالشی کودک طرح فروزن مدل', 'شامپو بدن نوزاد...</td>\n",
              "    </tr>\n",
              "    <tr>\n",
              "      <th>1999</th>\n",
              "      <td>خبرگزاری فارس - مشایی به حکم دادگاه اعتراض کرد...</td>\n",
              "      <td>{\"15\": {\"probability\": \"0.44981806069913133\", ...</td>\n",
              "      <td>خبرگزاری فارس مشایی حکم دادگاه اعتراض گزارش خب...</td>\n",
              "      <td>['مکمل سوخت خودرو لیکومولی مدل حجم میلی لیتر',...</td>\n",
              "    </tr>\n",
              "    <tr>\n",
              "      <th>2000</th>\n",
              "      <td>خبرگزاری فارس - شمخانی: صهیونیست‌ها را از تلاش...</td>\n",
              "      <td>{\"15\": {\"probability\": \"0.6807229346682825\", \"...</td>\n",
              "      <td>خبرگزاری فارس شمخانی صهیونیست‌ها تلاش تثبیت بح...</td>\n",
              "      <td>['کیف کلاسوری نیلکین مدل مناسب گوشی موبایل سام...</td>\n",
              "    </tr>\n",
              "  </tbody>\n",
              "</table>\n",
              "<p>2001 rows × 4 columns</p>\n",
              "</div>"
            ],
            "text/plain": [
              "                                               fulltext  ...                               recommended_products\n",
              "0     اميرحسین جون و امیرمحمد جون و امیرعلی جونم | ت...  ...  ['سشوارحرفه پرنسلی مدل', 'ماشین اصلاح بدن رمین...\n",
              "1     اميرحسین جون و امیرمحمد جون و امیرعلی جونم | چ...  ...  ['ست ماشین اصلاح موی بدن رمینگتون مدل', 'ماشین...\n",
              "2     اميرحسین جون و امیرمحمد جون و امیرعلی جونم | ن...  ...  ['ماشین اصلاح رمینگتون', 'ماشین اصلاح بدن رمین...\n",
              "3     اميرحسین جون و امیرمحمد جون و امیرعلی جونم | پ...  ...  ['ماشین اصلاح بدن رمینگتون مدل', 'ست ماشین اصل...\n",
              "4     من تنها کفشدوزکی هستم که خدارا دید | خرنوب عسل...  ...  ['شامپو طراوت شون حجم میلی لیتر', 'نرم موی کود...\n",
              "...                                                 ...  ...                                                ...\n",
              "1996  خبرگزاری فارس - مصدومیت پدر و پسر 15ساله و خود...  ...  ['سرویس خواب تکه نوزاد صبااو مدل', 'سرویس خواب...\n",
              "1997  خبرگزاری فارس - می‌خواهند لایحه الحاق به کنوان...  ...  ['روغن گیربکس خودرو پروفی کار مدل حجم لیتر', '...\n",
              "1998  خبرگزاری فارس - سیاست های آمریکا در منطقه شکست...  ...  ['وبالشی کودک طرح فروزن مدل', 'شامپو بدن نوزاد...\n",
              "1999  خبرگزاری فارس - مشایی به حکم دادگاه اعتراض کرد...  ...  ['مکمل سوخت خودرو لیکومولی مدل حجم میلی لیتر',...\n",
              "2000  خبرگزاری فارس - شمخانی: صهیونیست‌ها را از تلاش...  ...  ['کیف کلاسوری نیلکین مدل مناسب گوشی موبایل سام...\n",
              "\n",
              "[2001 rows x 4 columns]"
            ]
          },
          "metadata": {
            "tags": []
          },
          "execution_count": 99
        }
      ]
    },
    {
      "cell_type": "code",
      "metadata": {
        "colab": {
          "base_uri": "https://localhost:8080/",
          "height": 103
        },
        "id": "eyUtbScOeYpw",
        "outputId": "71c431fa-fae2-443a-f9dd-94afc80cf03f"
      },
      "source": [
        "first_2000_web_data_with_recommends[\"fulltext\"][33]"
      ],
      "execution_count": 122,
      "outputs": [
        {
          "output_type": "execute_result",
          "data": {
            "application/vnd.google.colaboratory.intrinsic+json": {
              "type": "string"
            },
            "text/plain": [
              "'نی نی وبلاگ | درسا مروارید قلب مامان وباباش عاشقی این مطلب رمز دار است نویسنده : عاشق درسا 15:57 15 تير 1393 287 0 0 ادامه مطلب بهترین عید عشقم تو کنارمی.نازم حست میکنم، نازت میکنم شیرینم میبوسمت،توبامایی امسال کنارمی نازم.الحمدالله شاکرتم خدا به خاطر خنده های درسا به خاطر چهار دست وپارفتن درسا،به خاطر شیرین زبونی هاش، به خاطر خنده های درسا که شادی فراوون را به ما هدیه کرده. امسال عید بوی گلهای نسترن میده حتی ماهیهای تنگ بلورم امسال رقصان ترند.ای خدای زیباییها امسال را بر ما آسان گردان وزیباییهات را بر ما هدیه کن. خدای مهربان خانواده ام رابه تو می سپارم وسلامتی وشادابی را برای تمام دوستانم از تو مهربان خواستارم. الهی آمین. &nb... نویسنده : عاشق درسا 19:40 1 فروردين 1393 305 6 0 ادامه مطلب ,پرستار حضورتان اشاره ایست زینب گونه، شاید دردمندی به دستان تو دخیل بسته باشه .......... دستان شفا بخش روزت مبارک.روز پرستار به تمام پرستاران عزیز مبارک.اميدوارم خداوند به خاطر این شب بیداریها قسمتی از بهشت نصیبمان کند. نویسنده : عاشق درسا 19:33 15 اسفند 1392 311 0 7 ادامه مطلب مژده مژده عکسهای 5 ماهگی خوب داستان ار اونجا شروع شد که خدا ی مهربون از بین گل هاش یکی انتخاب کرد برای من . خدای مهربون درسا جونو کادو پیچ کرده بو برای مامان مونا و بابا مهدی.خدا جونم این بهترین کادویی که گرفتم.ممنون و من کادو رو باز کردم .دخترمه درسا خانم. ای عزیزتر از جانم تو اومدی و دریای عشق مارو عاشقونه تر کردی دوستت داریم. دیدنت ارامش قلبمه مامن من گذاشتمت تو کادو ودادمت به بابا مهدی همیشه دلم میخواست بهترین هدیه را بهش بدم اینم بهترین هدیه ای جونم که سرتو بالا میکنی و دنیای قشنگ دورو برت را نگاه میکنی ممنونتم که قلبمو تسخیر کردی ... نویسنده : عاشق درسا 22:40 13 اسفند 1392 581 3 6 ادامه مطلب بدون عنوان دوستون دارم.ممنون که هستید و در این شرایط به من آرامش میدید.خدایا شکر اذ ... نویسنده : عاشق درسا 0:17 27 بهمن 1392 203 0 2 ادامه مطلب نبود عزیزم دریغا بهاران این باغ رابه گلزار الاله ها میبرندکجای این حقیقت تو را بنگرماز این پس که ایینه را میبرند.مادر بزرگ عزیزم جایت یک هفته است که در میان ما خالیست .غصه مجال نوشتن نمیدهد دوستتدارم همیشه.. ... نویسنده : عاشق درسا 22:54 20 بهمن 1392 352 0 3 ادامه مطلب خدای من 6ماهگی اخ جونم6ماهگیت مبارک نازم عزیزم شروع غذاهای کمکیت مبارک .قطره اهن و مولتی ویتامینت مبارک .پیپیپ هورا نازنینم خیلی خوشحالم که تو رو دارم .خدایا شکرت که منو به ارزوم رسوندی .خدایا هزاران هزاران بار شکرت. ارزوی دست یافتنی من درسای نازم . خدای مهربان به دخترم طول عمر با عزت عطا فرما.دست مهربونتو هیچ گاه از سر دختر من بر نداروهمیشه کنارش باش خدای رحمانو رحیم من. عزیزم تو حین 6ماهگی شما مامان دل دردگرفت که چند تا دکتر رفتم که اخر سر تشخیص اپاندیس دادندومامان را را بردند اتاق ... نویسنده : عاشق درسا 16:31 5 بهمن 1392 458 0 0 ادامه مطلب بدون عنوان این مطلب رمز دار است نویسنده : عاشق درسا 1:56 24 دی 1392 276 0 1 ادامه مطلب بدون عنوان عسل درسا به بازار امد.با طعمی بی نظیر بفرمایید. فدات شم که با امدنت شیرینی را به زندگی ما هدیه دادی.دوست دارم. ... نویسنده : عاشق درسا 17:16 22 دی 1392 289 0 3 ادامه مطلب بدون عنوان درسا عزیزم تو زمزمه عشق مایی. دوست داریم. ... نویسنده : عاشق درسا 2:00 21 دی 1392 306 0 2 ادامه مطلب 1234567...11'"
            ]
          },
          "metadata": {
            "tags": []
          },
          "execution_count": 122
        }
      ]
    },
    {
      "cell_type": "code",
      "metadata": {
        "id": "FWlTviUrebV2",
        "colab": {
          "base_uri": "https://localhost:8080/"
        },
        "outputId": "111e3d91-e4fa-4a07-8d25-2ee9c80a644f"
      },
      "source": [
        "print(first_2000_web_data_with_recommends[\"recommended_products\"][33])"
      ],
      "execution_count": 123,
      "outputs": [
        {
          "output_type": "stream",
          "text": [
            "['روبالشی کودک طرح فروزن مدل', 'بالش کودک طرح دشت زیبا', 'ست ماشین اصلاح بدن رمینگتون', 'روبالشی کودک طرح مردعنکبوتی مدل', 'فيله ماهي گاليت ممتاز شارین گرم']\n"
          ],
          "name": "stdout"
        }
      ]
    },
    {
      "cell_type": "markdown",
      "metadata": {
        "id": "gKUv_NfCcfym"
      },
      "source": [
        "Predicting related products for the first 1000 wiki_data rows with k = 5"
      ]
    },
    {
      "cell_type": "code",
      "metadata": {
        "id": "N6YM_Nprb2Ul"
      },
      "source": [
        "recommended_products_for_wiki_data = recommender(first_1000_wiki_data_vectors_, all_unique_products_vectors, 5)"
      ],
      "execution_count": null,
      "outputs": []
    },
    {
      "cell_type": "code",
      "metadata": {
        "id": "2DjdlDFWiI38"
      },
      "source": [
        "first_1000_wiki_data = wiki_data[0:1001]\n",
        "first_1000_wiki_data[\"recommended_products\"] = recommended_products_for_wiki_data"
      ],
      "execution_count": null,
      "outputs": []
    },
    {
      "cell_type": "code",
      "metadata": {
        "id": "oT18YmWsiwE3"
      },
      "source": [
        "compression_opts = dict(method='zip', archive_name='first_1000_wiki_data_clean_with_recommends.csv')  \n",
        "first_1000_wiki_data.to_csv('/content/drive/MyDrive/YektaNet_Interview/first_1000_wiki_data_clean_with_recommends.zip', index=False, compression=compression_opts) "
      ],
      "execution_count": null,
      "outputs": []
    },
    {
      "cell_type": "code",
      "metadata": {
        "id": "GnsQcQ2SPNjE"
      },
      "source": [
        "import zipfile\n",
        "with zipfile.ZipFile(\"/content/drive/MyDrive/YektaNet_Interview/first_1000_wiki_data_clean_with_recommends.zip\", 'r') as zip_ref:\n",
        "    zip_ref.extractall(\"/content/drive/MyDrive/YektaNet_Interview/\")"
      ],
      "execution_count": null,
      "outputs": []
    },
    {
      "cell_type": "markdown",
      "metadata": {
        "id": "avWPMfJaZp02"
      },
      "source": [
        "loading out put for first 1000 wiki data"
      ]
    },
    {
      "cell_type": "code",
      "metadata": {
        "id": "eGzdMOJ5jFmY"
      },
      "source": [
        "first_1000_wiki_data_with_recommends = pd.read_csv(\"/content/drive/MyDrive/YektaNet_Interview/first_1000_wiki_data_clean_with_recommends.csv\")"
      ],
      "execution_count": 124,
      "outputs": []
    },
    {
      "cell_type": "code",
      "metadata": {
        "colab": {
          "base_uri": "https://localhost:8080/",
          "height": 418
        },
        "id": "2pxUNxAphjdd",
        "outputId": "bf7d7c31-3c5f-43e6-c441-efaf01870a8b"
      },
      "source": [
        "first_1000_wiki_data_with_recommends"
      ],
      "execution_count": null,
      "outputs": [
        {
          "output_type": "execute_result",
          "data": {
            "text/html": [
              "<div>\n",
              "<style scoped>\n",
              "    .dataframe tbody tr th:only-of-type {\n",
              "        vertical-align: middle;\n",
              "    }\n",
              "\n",
              "    .dataframe tbody tr th {\n",
              "        vertical-align: top;\n",
              "    }\n",
              "\n",
              "    .dataframe thead th {\n",
              "        text-align: right;\n",
              "    }\n",
              "</style>\n",
              "<table border=\"1\" class=\"dataframe\">\n",
              "  <thead>\n",
              "    <tr style=\"text-align: right;\">\n",
              "      <th></th>\n",
              "      <th>fulltext</th>\n",
              "      <th>fulltext_clean</th>\n",
              "      <th>recommended_products</th>\n",
              "    </tr>\n",
              "  </thead>\n",
              "  <tbody>\n",
              "    <tr>\n",
              "      <th>0</th>\n",
              "      <td>سالنامه دفتر یا کتابی است دست نویس یا چاپ شده ...</td>\n",
              "      <td>سالنامه دفتر کتابی دست نویس چاپ درمورد رویداده...</td>\n",
              "      <td>['ماشین اصلاح مدل همراه ست شانه عددی ماشین اصل...</td>\n",
              "    </tr>\n",
              "    <tr>\n",
              "      <th>1</th>\n",
              "      <td>اط لاع یا آگاهش در کوتاه ترین تعریف داده های پ...</td>\n",
              "      <td>اط لاع آگاهش کوتاه تعریف پردازش مواد خام بالقو...</td>\n",
              "      <td>['ست شانه ماشین اصلاح مدل بسته عددی همراه روغن...</td>\n",
              "    </tr>\n",
              "    <tr>\n",
              "      <th>2</th>\n",
              "      <td>این نگاره نمونه ای از یک اثر ویرایش شده است که...</td>\n",
              "      <td>نگاره نمونه اثر ویرایش تصویرهای گوناگونی اجازه...</td>\n",
              "      <td>['کاور سیلیکونی پروتکتیو کیس پروتکتیو کیس مدل ...</td>\n",
              "    </tr>\n",
              "    <tr>\n",
              "      <th>3</th>\n",
              "      <td>ویکی معمولا به انواعی از وب گاه ها گفته می شود...</td>\n",
              "      <td>ویکی انواعی وب بازدیدکنندگانش اوقات نیاز ثبت و...</td>\n",
              "      <td>['روغن موتور خودرو پروفی کار مدل حجم لیتر', 'م...</td>\n",
              "    </tr>\n",
              "    <tr>\n",
              "      <th>4</th>\n",
              "      <td>نرم افزارهای مشارکت گرا گروه افزار یا ابزار گر...</td>\n",
              "      <td>نرم افزارهای مشارکت گرا گروه افزار ابزار نرم ا...</td>\n",
              "      <td>['دوربین فیلم ورزشی گوپرو مدل همراه کیف لوازم ...</td>\n",
              "    </tr>\n",
              "    <tr>\n",
              "      <th>...</th>\n",
              "      <td>...</td>\n",
              "      <td>...</td>\n",
              "      <td>...</td>\n",
              "    </tr>\n",
              "    <tr>\n",
              "      <th>996</th>\n",
              "      <td>آدانا نام یکی از استان های ترکیه است که مرکز آ...</td>\n",
              "      <td>آدانا استان ترکیه مرکز شهری جغرافیا استان ساحل...</td>\n",
              "      <td>['گچ مو هات هیوز کد مجموعه عددی', 'مکمل سوخت خ...</td>\n",
              "    </tr>\n",
              "    <tr>\n",
              "      <th>997</th>\n",
              "      <td>بالیکسیر نام یکی از استان های ترکیه است که مرک...</td>\n",
              "      <td>بالیکسیر استان ترکیه مرکز شهری یونانی منطقه پا...</td>\n",
              "      <td>['فيله ماهي گاليت ممتاز شارین گرم', 'مسواک دنت...</td>\n",
              "    </tr>\n",
              "    <tr>\n",
              "      <th>998</th>\n",
              "      <td>استان ختای یا حاتای یا هاتای نام یکی از استان ...</td>\n",
              "      <td>استان ختای حاتای هاتای استان ترکیه مرکزیت شهر ...</td>\n",
              "      <td>['نرم موی کودک الوینا مدل حجم میل لیتر', 'سرم ...</td>\n",
              "    </tr>\n",
              "    <tr>\n",
              "      <th>999</th>\n",
              "      <td>افیون قره حصار یکی از شهرهای ترکیه است این شهر...</td>\n",
              "      <td>افیون قره حصار شهرهای ترکیه شهر مرکز استان افی...</td>\n",
              "      <td>['شامپو مو استم سل مدل موهای خشک آسیب حجم میلی...</td>\n",
              "    </tr>\n",
              "    <tr>\n",
              "      <th>1000</th>\n",
              "      <td>آغری یکی از استان های ترکیه است که دارای مرکزی...</td>\n",
              "      <td>آغری استان ترکیه دارای مرکزی ساکنان استان ترک ...</td>\n",
              "      <td>['رم لپ تاپ تک کاناله مگاهرتز كينگستون مدل ظرف...</td>\n",
              "    </tr>\n",
              "  </tbody>\n",
              "</table>\n",
              "<p>1001 rows × 3 columns</p>\n",
              "</div>"
            ],
            "text/plain": [
              "                                               fulltext  ...                               recommended_products\n",
              "0     سالنامه دفتر یا کتابی است دست نویس یا چاپ شده ...  ...  ['ماشین اصلاح مدل همراه ست شانه عددی ماشین اصل...\n",
              "1     اط لاع یا آگاهش در کوتاه ترین تعریف داده های پ...  ...  ['ست شانه ماشین اصلاح مدل بسته عددی همراه روغن...\n",
              "2     این نگاره نمونه ای از یک اثر ویرایش شده است که...  ...  ['کاور سیلیکونی پروتکتیو کیس پروتکتیو کیس مدل ...\n",
              "3     ویکی معمولا به انواعی از وب گاه ها گفته می شود...  ...  ['روغن موتور خودرو پروفی کار مدل حجم لیتر', 'م...\n",
              "4     نرم افزارهای مشارکت گرا گروه افزار یا ابزار گر...  ...  ['دوربین فیلم ورزشی گوپرو مدل همراه کیف لوازم ...\n",
              "...                                                 ...  ...                                                ...\n",
              "996   آدانا نام یکی از استان های ترکیه است که مرکز آ...  ...  ['گچ مو هات هیوز کد مجموعه عددی', 'مکمل سوخت خ...\n",
              "997   بالیکسیر نام یکی از استان های ترکیه است که مرک...  ...  ['فيله ماهي گاليت ممتاز شارین گرم', 'مسواک دنت...\n",
              "998   استان ختای یا حاتای یا هاتای نام یکی از استان ...  ...  ['نرم موی کودک الوینا مدل حجم میل لیتر', 'سرم ...\n",
              "999   افیون قره حصار یکی از شهرهای ترکیه است این شهر...  ...  ['شامپو مو استم سل مدل موهای خشک آسیب حجم میلی...\n",
              "1000  آغری یکی از استان های ترکیه است که دارای مرکزی...  ...  ['رم لپ تاپ تک کاناله مگاهرتز كينگستون مدل ظرف...\n",
              "\n",
              "[1001 rows x 3 columns]"
            ]
          },
          "metadata": {
            "tags": []
          },
          "execution_count": 51
        }
      ]
    },
    {
      "cell_type": "code",
      "metadata": {
        "colab": {
          "base_uri": "https://localhost:8080/",
          "height": 35
        },
        "id": "x33bFzE2hrYy",
        "outputId": "20a47370-c5c8-4b9b-c3e7-259dc9f273ca"
      },
      "source": [
        "first_1000_wiki_data_with_recommends[\"fulltext_clean\"][333]"
      ],
      "execution_count": 157,
      "outputs": [
        {
          "output_type": "execute_result",
          "data": {
            "application/vnd.google.colaboratory.intrinsic+json": {
              "type": "string"
            },
            "text/plain": [
              "'دیرانه صنعت حمل نقل خسارت دیرکرد تخلیه وسیله بارکش آهن خسارت دیرکرد تخلیه واگن آهن مقصد آهن مبدأ پرداخت منابع فرهنگستان زبان فارسی رده بارگنج رده ترابری رده حقوق تجارت رده قانون دریایی رده واژگان حقوقی'"
            ]
          },
          "metadata": {
            "tags": []
          },
          "execution_count": 157
        }
      ]
    },
    {
      "cell_type": "code",
      "metadata": {
        "colab": {
          "base_uri": "https://localhost:8080/"
        },
        "id": "z7rt1ZLVSJxa",
        "outputId": "33c64002-9926-4bcd-b4b0-ac002a4499c7"
      },
      "source": [
        "print(first_1000_wiki_data_with_recommends[\"recommended_products\"][333])"
      ],
      "execution_count": 158,
      "outputs": [
        {
          "output_type": "stream",
          "text": [
            "['مکمل سوخت خودرو فولکس واگن مدل حجم میلی لیتر', 'روغن گیربکس خودرو پروفی کار مدل حجم لیتر', 'شانه ماشین اصلاح مدل مجموعه عددی', 'روغن موتور خودرو پروفی کار مدل حجم لیتر', 'مکمل روغن موتور خودرو لوکسیت مدل حجم میلی لیتر مجموعه عددی']\n"
          ],
          "name": "stdout"
        }
      ]
    },
    {
      "cell_type": "markdown",
      "metadata": {
        "id": "2UmJMGDpzrmX"
      },
      "source": [
        "# Predicting most related products for one input string by a given threshold for cosine similarity"
      ]
    },
    {
      "cell_type": "markdown",
      "metadata": {
        "id": "7xv6ftM44tBU"
      },
      "source": [
        "Here we write a function which gets an input string, a list of all product names, and a threshold for cosine similarity. First, we transform the input string into one or more vectors with size of 768(Using pretrained PARSBERT model), and find the cosine similarity of this vector with all product vectors. Finally, we return the products which their cosine similarity with the input vector is more than the given threshold"
      ]
    },
    {
      "cell_type": "code",
      "metadata": {
        "id": "dtjtIzkg53ru"
      },
      "source": [
        "def utils_bert_embedding_for_one_txt(txt, tokenizer, model):\n",
        "\n",
        "  idx = tokenizer.encode(txt)\n",
        "  idx = np.array(idx)[None,:]  \n",
        "  embedding = model(idx)\n",
        "  X = np.array(embedding[0][0][1:-1])\n",
        "  return X.mean(0)\n",
        "\n",
        "def find_products_with_cos_similarity_more_than_threshold(vectorized_txt, threshold, all_unique_products_vectors):\n",
        "\n",
        "  products_with_cos_similarity_more_than_threshold = []\n",
        "  for i in range(len(all_unique_products_vectors)):\n",
        "    cosine_similarity = 1 - spatial.distance.cosine(vectorized_txt, all_unique_products_vectors[i][0])\n",
        "    if cosine_similarity >= threshold:\n",
        "      products_with_cos_similarity_more_than_threshold.append(unique_products[i])\n",
        "  return products_with_cos_similarity_more_than_threshold\n",
        "\n",
        "\n",
        "def recommender_with_threshold(txt, all_unique_products_vectors, threshold, tokenizer, model):\n",
        "  \n",
        "  vectorized_txt = utils_bert_embedding_for_one_txt(txt, tokenizer, model)\n",
        "  recommended_products = find_products_with_cos_similarity_more_than_threshold(vectorized_txt, threshold, all_unique_products_vectors)\n",
        "  return recommended_products"
      ],
      "execution_count": null,
      "outputs": []
    },
    {
      "cell_type": "markdown",
      "metadata": {
        "id": "FInPpTs5-amI"
      },
      "source": [
        "Now, we test this method"
      ]
    },
    {
      "cell_type": "code",
      "metadata": {
        "colab": {
          "base_uri": "https://localhost:8080/"
        },
        "id": "WSUX9K1b8x4c",
        "outputId": "326f8fc8-4237-4ba8-fe6d-334e9ce97c96"
      },
      "source": [
        "txt = wiki_data[\"fulltext_clean\"][0]\n",
        "threshold = 0.65\n",
        "recommender_with_threshold(txt, all_unique_products_vectors, threshold, tokenizer, model)"
      ],
      "execution_count": null,
      "outputs": [
        {
          "output_type": "execute_result",
          "data": {
            "text/plain": [
              "['کاغذ یادداشت طرح کارهای بسته عددی', 'تقویم رومیزی مستر راد سال مدل کد']"
            ]
          },
          "metadata": {
            "tags": []
          },
          "execution_count": 213
        }
      ]
    },
    {
      "cell_type": "code",
      "metadata": {
        "colab": {
          "base_uri": "https://localhost:8080/",
          "height": 104
        },
        "id": "IOTQpMLMp75J",
        "outputId": "52559b85-8dd9-42fa-b4b2-13b214265dc8"
      },
      "source": [
        "wiki_data[\"fulltext_clean\"][0]"
      ],
      "execution_count": null,
      "outputs": [
        {
          "output_type": "execute_result",
          "data": {
            "application/vnd.google.colaboratory.intrinsic+json": {
              "type": "string"
            },
            "text/plain": [
              "'سالنامه دفتر کتابی دست نویس چاپ درمورد رویدادهای اتفاق افتاده سال اطلاعاتی سالنامه موضوعات مختلفی جمله اقتصادی سیاسی اجتماعی پوشش موضوع بپردازند سالنامه شامل فهرست مناسبت بنا تصمیماتی اتخاذ یاد خاطره حوادث اتفاقات انسان زنده نگه نوشتن سالنامه مواردی حقوقی بازرگانی انبارداری تولیدی جنبه قانونی انواع سالنامه مختلفی سال چاپ سالنامه هنرمندان سالنامه تئاتر سالنامه جاودانه ایران برد سالنامه تقویم تقویمی بطن اندازه سالنامه سررسید اندازه کوچک اندازه معمول سررسید سالنامه قطع کتاب سلطانی رحلی وزیری رقعی پالتویی خشتی جیبی منابع دکتر مسعود ارشادی سررسید سالنامه رده آکادمی رویدادها رده کتاب رده کتاب پایه'"
            ]
          },
          "metadata": {
            "tags": []
          },
          "execution_count": 214
        }
      ]
    },
    {
      "cell_type": "markdown",
      "metadata": {
        "id": "Lexfw-OF_WIE"
      },
      "source": [
        "## A recommender by simple search"
      ]
    },
    {
      "cell_type": "markdown",
      "metadata": {
        "id": "BlHZ-iM5_fuf"
      },
      "source": [
        "Here, we write a function which gives a text as input and simply compare its words with all products names in the list. If there is any common word between them, the product will be recommended "
      ]
    },
    {
      "cell_type": "code",
      "metadata": {
        "id": "c7zLYy28y351"
      },
      "source": [
        "def check_number_of_common_words(first_txt_list, second_txt_list):\n",
        "\n",
        "  number_of_common_words_between_two_texts = 0\n",
        "  for word in first_txt_list:\n",
        "    if word in second_txt_list:\n",
        "      number_of_common_words_between_two_texts += 1\n",
        "  return number_of_common_words_between_two_texts\n",
        "\n",
        "def recommend_by_search_with_threshold(txt, unique_products, threshold):\n",
        "  recommended_products = []\n",
        "  splitted_txt_list = txt.split()\n",
        "  for product in unique_products:\n",
        "    splitted_product_list = product.split()\n",
        "    if check_number_of_common_words(splitted_txt_list, splitted_product_list) >= threshold:\n",
        "      recommended_products.append(product)\n",
        "  return recommended_products"
      ],
      "execution_count": null,
      "outputs": []
    },
    {
      "cell_type": "code",
      "metadata": {
        "colab": {
          "base_uri": "https://localhost:8080/",
          "height": 87
        },
        "id": "apfxqvHKtRqI",
        "outputId": "a30b7708-097d-4e73-9aef-9b61e5d21b5f"
      },
      "source": [
        "web_data[\"fulltext_clean\"][1200]"
      ],
      "execution_count": null,
      "outputs": [
        {
          "output_type": "execute_result",
          "data": {
            "application/vnd.google.colaboratory.intrinsic+json": {
              "type": "string"
            },
            "text/plain": [
              "'خبرگزاری فارس اختلاف قیمت خودرو کارخانه بازار حباب سعید مؤتمنی گفت\\u200cوگو خبرنگار اقتصادی خبرگزاری فارس وضعیت معامله خودرو بازار نوسانات قیمت ارز منجر کاهش معاملات رئیس اتحادیه صنف نمایشگاه داران فروشندگان خودرو بیان خرید خودرو دقت بدانند فاصله قیمت خودرو کارخانه بازار تومان است، اختلاف قیمت حبابی پاسخ سوال فروش خودرو خودروسازان تاثیری بازار خودرو است، فروش\\u200cها کوتاه بود، بازار خورو تاثیر می\\u200cگذاشت می\\u200cتوانست قیمت\\u200cها کاهش دهد، حالی تحویل\\u200c خودروهای فروش مربوط سال انتهای پیامب'"
            ]
          },
          "metadata": {
            "tags": []
          },
          "execution_count": 218
        }
      ]
    },
    {
      "cell_type": "markdown",
      "metadata": {
        "id": "0yhMownnECl_"
      },
      "source": [
        "Lets test\n"
      ]
    },
    {
      "cell_type": "code",
      "metadata": {
        "colab": {
          "base_uri": "https://localhost:8080/"
        },
        "id": "MmX5QE2MEHWK",
        "outputId": "21572c50-04dd-45f2-ff3b-0fe3bd1546be"
      },
      "source": [
        "txt = web_data[\"fulltext_clean\"][1200]\n",
        "threshold = 1\n",
        "recommend_by_search_with_threshold(txt, unique_products, threshold)"
      ],
      "execution_count": null,
      "outputs": [
        {
          "output_type": "execute_result",
          "data": {
            "text/plain": [
              "['دوربین فیلم خودرو کراس تور مدل',\n",
              " 'اسپری انژکتور خودرو هافمن مدل حجم میلی لیتر',\n",
              " 'روغن موتور خودرو ولوولين مدل حجم ميلی ليتر',\n",
              " 'جک هیدرولیک خودرو کنزاکس مدل',\n",
              " 'جک هیدرولیک خودرو نووا مدل',\n",
              " 'جک هیدرولیک خودرو زبرا مدل',\n",
              " 'جک هیدرولیک خودرو اینهل مدل',\n",
              " 'کمپرسور خودرو مدل',\n",
              " 'جک خودرو مدل',\n",
              " 'کمپرسور هوا فندکی خودرو کنزاکس مدل',\n",
              " 'جک خودرو آیرون مکس مدل',\n",
              " 'جک خودرو کد',\n",
              " 'جک هیدرولیک خودرو آروا مدل',\n",
              " 'جک هیدرولیک خودرو وینکس مدل',\n",
              " 'جک هیدرولیک خودرو آسا مدل',\n",
              " 'جک خودرو مدل همراه دسته جک',\n",
              " 'جک خودرو واکتا کد',\n",
              " 'جک خودرو آروا مدل',\n",
              " 'جک هیدرولیک خودرو رتتا مدل',\n",
              " 'جک خودرو مدل مناسب خودروهای شاسی بلند',\n",
              " 'جک خودرو رونیکس مدل',\n",
              " 'خرک خودرو جکیران مدل',\n",
              " 'جک خودرو تی مدل',\n",
              " 'کمپرسور هوای خودرو ایکس وان مدل',\n",
              " 'روغن موتور خودرو بوش مدل حجم میلی لیتر',\n",
              " 'مکمل روغن موتور خودرو لیکومولی کد حجم میلی لیتر',\n",
              " 'مکمل سوخت خودرو دیرگون مدل حجم میلی لیتر',\n",
              " 'روغن ترمز خودرو هراز مدل حجم میلی\\u200c لیتر',\n",
              " 'ضد یخ خودرو پروفی کار مدل کیلوگرم',\n",
              " 'جک خودرو کنزاکس مدل',\n",
              " 'روغن ترمز خودرو آلتیما مدل حجم میلی\\u200c لیتر',\n",
              " 'تمیز سیستم سوخت خودرو لیکومولی مدل حجم میلی لیتر',\n",
              " 'آب رادیاتور خودرو وندا مدل حجم میلی لیتر',\n",
              " 'مکمل تمیز سیستم سوخت خودرو والترم کد حجم میلی لیتر',\n",
              " 'ضد یخ خودرو دبلیو مدل حجم میلی لیتر',\n",
              " 'مکمل سوخت خودرو لیکومولی حجم میلی لیتر بسته عددی',\n",
              " 'روغن موتور خودرو بیوموتورز مدل حجم لیتر',\n",
              " 'ضدیخ خودرو کاسپین مدل حجم لیتر',\n",
              " 'مکمل سوخت خودرو اکسیر پلاس مدل حجم میلی لیتر',\n",
              " 'مکمل سوخت خودرو مدل حجم میلی لیتر همراه تمیز سیستم سوخت خودرو',\n",
              " 'مکمل تمیز سیستم سوخت خودرو فالکون کد حجم میلی لیتر',\n",
              " 'روغن گیربکس خودرو موبیس مدل حجم میلی لیتر',\n",
              " 'مکمل سوخت خودرو گرین مدل پلاس حجم میلی لیتر',\n",
              " 'روغن موتور خودرو آیسین مدل حجم میلی لیتر',\n",
              " 'مکمل سوخت خودرو مدل حجم میلی لیتر بسته عددی',\n",
              " 'مکمل سوخت خودرو مارپا مدل حجم میلی لیتر',\n",
              " 'روغن ترمز خودرو موتونکس مدل حجم میلی\\u200c لیتر',\n",
              " 'مکمل سوخت خودرو آبرو مدل حجم میلی لیتر',\n",
              " 'مکمل روغن گیربکس دستی خودرو حجم میلی لیتر',\n",
              " 'روغن ترمز خودرو کانادا لوبریفنت مدل حجم میلی لیتر',\n",
              " 'روغن موتور خودرو ولوولین مدل حجم میلی لیتر',\n",
              " 'محلول رادیاتور خودرو مدل حجم میلی لیتر',\n",
              " 'ضدیخ خودرو اسپیدی کد حجم کیلوگرم بسته عددی',\n",
              " 'ضدیخ خودرو تاکامی کد حجم میلی لیتر بسته عددی',\n",
              " 'مکمل سوخت خودرو ادلر مدل حجم میلی لیتر',\n",
              " 'تمیز سیستم سوخت خودرو هیبرید گات مدل حجم میلی لیتر',\n",
              " 'روغن موتور خودرو بیوموتورز مدل حجم میلی لیتر بسته عددی',\n",
              " 'مکمل اکتان سوخت خودرو اینستا فینیش کد بسته عددی',\n",
              " 'ضدیخ خودرو ژالان مدل حجم میلی لیتر',\n",
              " 'انژکتور خودرو اینستا فینیش کد حجم میلی لیتر',\n",
              " 'مکمل سوخت خودرو لیکومولی مدل همراه مکمل سوخت مدل',\n",
              " 'روغن موتور خودرو ونول مدل حجم لیتر',\n",
              " 'مکمل تمیز سیستم سوخت خودرو ژیکوژن مدل بسته عددی',\n",
              " 'ضدیخ خودرو گالف مدل حجم میلی لیتر',\n",
              " 'ضدیخ خودرو تاو مدل حجم لیتر همراه آب رادیاتور',\n",
              " 'مکمل سوخت خودرو دیرگون مدل حجم میلی لیتر بسته عددی',\n",
              " 'مکمل روغن موتور خودرو لوکسیت مدل حجم میلی لیتر مجموعه عددی',\n",
              " 'روغن موتور خودرو لوکینی مدل حجم لیتر',\n",
              " 'ضد یخ خودرو تویوتا مدل کد حجم میلی لیتر',\n",
              " 'مکمل تمیز سیستم سوخت خودرو کاسپین کد حجم میلی لیتر بسته عددی',\n",
              " 'مکمل سوخت خودرو یورول مدل حجم میلی لیتر',\n",
              " 'ضد یخ خودرو آیسین مدل حجم لیتر',\n",
              " 'مکمل سوخت خودرو لیکومولی مدل حجم میلی لیتر',\n",
              " 'مکمل سوخت خودرو کستل کد حجم میلی لیتر',\n",
              " 'روغن موتور خودرو لیوس مدل حجم میلی لیتر بسته عددی',\n",
              " 'مکمل تمیز سیستم سوخت خودرو گتسان مدل حجم میلی لیتر',\n",
              " 'ضدیخ خودرو کاسپین مدل حجم میلی لیتر مجموعه عددی',\n",
              " 'مکمل روغن موتور خودرو آبشار مدل حجم میلی لیتر',\n",
              " 'مکمل روغن موتور خودرو گتسان مدل حجم میلی لیتر',\n",
              " 'اسپری تمیز سیستم سوخت خودرو گات مدل حجم میلی لیتر',\n",
              " 'جک خودرو آذرپارت کد مناسب پژو',\n",
              " 'روغن موتور خودرو لوبراش مدل حجم لیتر',\n",
              " 'ضدیخ خودرو تاو کد حجم لیتر',\n",
              " 'ضدیخ خودرو توسکا مدل حجم لیتر',\n",
              " 'ضدیخ خودرو ایبریندال مدل حجم لیتر',\n",
              " 'مکمل سوخت خودرو فولکس واگن مدل حجم میلی لیتر',\n",
              " 'روغن موتور خودرو سایکلون مدل حجم میلی لیتر',\n",
              " 'روغن موتور خودرو الیستر ایل مدل ظرفیت لیتر',\n",
              " 'روغن موتور خودرو مرسدس بنز مدل حجم لیتر',\n",
              " 'کمپرسور هوای فندکی خودرو کد',\n",
              " 'روغن گیربکس خودرو کاسپین مدل حجم میلی\\u200c لیتر',\n",
              " 'روغن موتور خودرو پروفی کار مدل حجم لیتر',\n",
              " 'روغن گیربکس خودرو هیوندای موبیس مدل حجم لیتر',\n",
              " 'روغن گیربکس خودرو لیکومولی مدل لیتری',\n",
              " 'بسته تعویض روغن خودرو موبیل مدل مناسب خودروی پورشه',\n",
              " 'روغن ترمز خودرو آیسین مدل ظرفیت میلی لیتر',\n",
              " 'روغن هیدرولیک فرمان خودرو لوبریفنت کانادا مدل حجم میلی لیتر',\n",
              " 'اسپری انژکتور خودرو کاسپین حجم میلی لیتر',\n",
              " 'روغن گیربکس دیفرانسیل خودرو آدینول مدل حجم میلی لیتر',\n",
              " 'روغن موتور خودرو شل هلیکس مدل هیوندای حجم لیتر',\n",
              " 'روغن گیربکس خودرو پروفی کار مدل حجم لیتر',\n",
              " 'روغن گیربکس خودرو آترود مدل ظرفیت لیتر',\n",
              " 'جک هیدرولیک خودرو اکتیو مدل روغنی',\n",
              " 'جک هیدرولیک روغنی خودرو اکتیو مدل',\n",
              " 'دوربین فیلم خودرو موتورولا مدل',\n",
              " 'دوربین فیلم خودرو استاروان مدل',\n",
              " 'دوربین فیلمبرداری خودرو موتورولا مدل',\n",
              " 'دوربین خودرو کارپا مدل',\n",
              " 'دوربین فیلم خودرو مدل',\n",
              " 'دوربین فیلمبرداری خودرو بپوکم مدل',\n",
              " 'دوربین فیلم خودرو ترنسند مدل',\n",
              " 'دوربین فیلم خودرو اچ مدل',\n",
              " 'دوربین فیلم\\u200cبرداری خودرو ترنسند مدل',\n",
              " 'دوربین فیلم\\u200cبرداری خودرو ناکامیچی مدل',\n",
              " 'دوربین فیلم خودرو شادو مدل',\n",
              " 'دوربین فیلمبرداری خودرو ازدم مدل',\n",
              " 'دوربین فیلم خودرو ایی مدل',\n",
              " 'دوربین فیلم خودرو فو مدل',\n",
              " 'دوربین خودرو مدل',\n",
              " 'دوربین فیلم خودرو انی تک مدل',\n",
              " 'روغن موتور خودرو توتال مدل حجم لیتر',\n",
              " 'روغن موتور خودرو لیکومولی مدل حجم لیتر',\n",
              " 'روغن موتور خودرو اسپیدی مدل ظرفیت لیتر',\n",
              " 'روغن موتور خودرو کاسترول مدل ظرفیت لیتری',\n",
              " 'روغن گیربکس خودرو آترود مدل حجم لیتر',\n",
              " 'روغن موتور خودرو کاسپین مدل حجم لیتر',\n",
              " 'روغن موتور خودرو شرکت نفت پارس مدل حجم لیتر',\n",
              " 'روغن موتور خودرو فلو مکس مدل حجم لیتر',\n",
              " 'روغن موتور خودرو بهتام روانکار مدل حجم لیتر',\n",
              " 'روغن موتور خودرو الف مدل حجم لیتر',\n",
              " 'روغن موتور خودرو اسپیدی مدل حجم لیتر',\n",
              " 'روغن موتور خودرو ایرانول مدل ظرفیت لیتری',\n",
              " 'روغن موتور خودرو بهران مدل لیتری',\n",
              " 'روغن موتور خودرو پارس مدل سوپر پایا حجم لیتر',\n",
              " 'لاستیک خودرو آچیلس مدل سایز',\n",
              " 'لاستیک خودرو نکسن مدل سایز',\n",
              " 'لاستیک خودرو تراینگل مدل سایز',\n",
              " 'لاستیک خودرو دانلوپ مدل سایز حلقه',\n",
              " 'لاستیک خودرو مینروا مدل سایز حلقه',\n",
              " 'لاستیک خودرو کنتیننتال مدل سایز حلقه',\n",
              " 'لاستیک خودرو کومهوتایر مدل سایز حلقه',\n",
              " 'لاستیک خودرو هانکوک مدل سایز حلقه',\n",
              " 'لاستیک خودرو کومهو تایر مدل سایز حلقه',\n",
              " 'لاستیک خودرو دانلوپ مدل سایز',\n",
              " 'مکمل سوخت خودرو فالکون مدل حجم میلی لیتر',\n",
              " 'مکمل سوخت خودرو پژو سیتروئن مدل حجم میلی لیتر',\n",
              " 'مکمل روغن موتور خودرو کاسپین مدل حجم میلی لیتر بسته عددی',\n",
              " 'کارواش خودرو چجیبا کد',\n",
              " 'پخش خودرو پایونیر مدل',\n",
              " 'تقویم رومیزی مستر راد سال مدل کد',\n",
              " 'شامپو کاهش دهنده چربی فولیکا مخصوص موهای چرب حجم میلی لیتر',\n",
              " 'قند کالری کاهش لاکریتوز گرم',\n",
              " 'تیشرت آستین کوتاه زنانه تارپون طرح فانتزی کد',\n",
              " 'بالش کودک مدل بچه رئیس',\n",
              " 'تی شرت آستین کوتاه زنانه طرح اکسو مدل',\n",
              " 'تیشرت آستین کوتاه زنانه طرح دوست کد',\n",
              " 'تی شرت آستین کوتاه زنانه طرح مدل',\n",
              " 'تیشرت آستین کوتاه زنانه طرح پروانه کد',\n",
              " 'تیشرت آستین کوتاه زنانه مدل رنگ سفید',\n",
              " 'تی شرت آستین کوتاه زنانه اسد طرح بیلی آیلیش کد',\n",
              " 'تی شرت آستین کوتاه زنانه طرح شازده کوچولو کد',\n",
              " 'تی شرت آستین کوتاه زنانه اسد طرح کد']"
            ]
          },
          "metadata": {
            "tags": []
          },
          "execution_count": 219
        }
      ]
    },
    {
      "cell_type": "code",
      "metadata": {
        "id": "KeapkZYoA27E"
      },
      "source": [
        ""
      ],
      "execution_count": null,
      "outputs": []
    }
  ]
}